{
  "nbformat": 4,
  "nbformat_minor": 0,
  "metadata": {
    "colab": {
      "name": "07 - Tensorflow CIFAR10 Improved.ipynb",
      "provenance": [],
      "collapsed_sections": []
    },
    "kernelspec": {
      "name": "python3",
      "display_name": "Python 3"
    },
    "accelerator": "GPU"
  },
  "cells": [
    {
      "cell_type": "code",
      "metadata": {
        "colab": {
          "base_uri": "https://localhost:8080/"
        },
        "id": "v-6i8X1B34d6",
        "outputId": "8b4837ac-eacf-4637-d0e2-7324d7bf7063"
      },
      "source": [
        "import tensorflow as tf\r\n",
        "print(tf.__version__)"
      ],
      "execution_count": 1,
      "outputs": [
        {
          "output_type": "stream",
          "text": [
            "2.4.0\n"
          ],
          "name": "stdout"
        }
      ]
    },
    {
      "cell_type": "code",
      "metadata": {
        "id": "UrnjBTvm3-_5"
      },
      "source": [
        "import numpy as np\r\n",
        "import matplotlib.pyplot as plt\r\n",
        "\r\n",
        "from tensorflow.keras.layers import Input, Conv2D, Flatten, Dense, Dropout, BatchNormalization, GlobalMaxPooling2D, MaxPooling2D\r\n",
        "from tensorflow.keras.models import Model\r\n",
        "from tensorflow.keras.datasets import cifar10"
      ],
      "execution_count": 2,
      "outputs": []
    },
    {
      "cell_type": "code",
      "metadata": {
        "colab": {
          "base_uri": "https://localhost:8080/"
        },
        "id": "4b5MkEJW4tIL",
        "outputId": "ac304d25-9c86-4e19-cb52-3233714c6306"
      },
      "source": [
        "(x_train, y_train), (x_test, y_test) = cifar10.load_data()\r\n",
        "\r\n",
        "x_train, x_test = x_train / 255.0, x_test / 255.0\r\n",
        "y_train, y_test = y_train.flatten(), y_test.flatten()\r\n",
        "print(\"x_train.shape:\", x_train.shape)\r\n",
        "print(\"y_train.shape:\", y_train.shape)"
      ],
      "execution_count": 3,
      "outputs": [
        {
          "output_type": "stream",
          "text": [
            "x_train.shape: (50000, 32, 32, 3)\n",
            "y_train.shape: (50000,)\n"
          ],
          "name": "stdout"
        }
      ]
    },
    {
      "cell_type": "code",
      "metadata": {
        "colab": {
          "base_uri": "https://localhost:8080/"
        },
        "id": "-g6aYHkz4-46",
        "outputId": "51e316e9-e94c-4b4d-9b1a-a9874e6bf8b3"
      },
      "source": [
        "K = len(set(y_train))\r\n",
        "print(\"number of classes:\", K)"
      ],
      "execution_count": 4,
      "outputs": [
        {
          "output_type": "stream",
          "text": [
            "number of classes: 10\n"
          ],
          "name": "stdout"
        }
      ]
    },
    {
      "cell_type": "code",
      "metadata": {
        "id": "YcXA-A-15Fi7"
      },
      "source": [
        "i = Input(shape=x_train[0].shape)\r\n",
        "\r\n",
        "x = Conv2D(filters=32, kernel_size=(3, 3), padding=\"same\", \r\n",
        "           activation=tf.keras.activations.relu)(i)\r\n",
        "x = BatchNormalization()(x)\r\n",
        "x = Conv2D(filters=32, kernel_size=(3, 3), padding=\"same\", \r\n",
        "           activation=tf.keras.activations.relu)(x)\r\n",
        "x = BatchNormalization()(x) \r\n",
        "x = MaxPooling2D(pool_size=(2, 2))(x) \r\n",
        "# x = Dropout(rate=0.2)(x)\r\n",
        "x = Conv2D(filters=64, kernel_size=(3, 3), padding=\"same\", \r\n",
        "           activation=tf.keras.activations.relu)(x)         \r\n",
        "x = BatchNormalization()(x)\r\n",
        "x = Conv2D(filters=64, kernel_size=(3, 3), padding=\"same\", \r\n",
        "           activation=tf.keras.activations.relu)(x)\r\n",
        "x = BatchNormalization()(x)\r\n",
        "x = MaxPooling2D(pool_size=(2, 2))(x)           \r\n",
        "# x = Dropout(rate=0.2)(x)\r\n",
        "x = Conv2D(filters=128, kernel_size=(3, 3), padding=\"same\", \r\n",
        "           activation=tf.keras.activations.relu)(x)\r\n",
        "x = BatchNormalization()(x)\r\n",
        "x = Conv2D(filters=128, kernel_size=(3, 3), padding=\"same\", \r\n",
        "           activation=tf.keras.activations.relu)(x)          \r\n",
        "x = BatchNormalization()(x)   \r\n",
        "x = MaxPooling2D(pool_size=(2, 2))(x)\r\n",
        "# x = Dropout(rate=0.2)(x)     \r\n",
        "\r\n",
        "# x = GlobalMaxPooling2D()(x)\r\n",
        "x = Flatten()(x)\r\n",
        "x = Dropout(rate=0.2)(x)\r\n",
        "x = Dense(units=1024, activation=tf.keras.activations.relu)(x)\r\n",
        "x = Dropout(rate=0.2)(x)\r\n",
        "x = Dense(units=K, activation=tf.keras.activations.softmax)(x)\r\n",
        "\r\n",
        "model = Model(inputs=[i], outputs=[x])"
      ],
      "execution_count": 14,
      "outputs": []
    },
    {
      "cell_type": "code",
      "metadata": {
        "id": "lxTBnnOd7h98"
      },
      "source": [
        "model.compile(optimizer=tf.keras.optimizers.Adam(), \r\n",
        "              loss=tf.keras.losses.sparse_categorical_crossentropy, \r\n",
        "              metrics=[\"accuracy\"])"
      ],
      "execution_count": 15,
      "outputs": []
    },
    {
      "cell_type": "code",
      "metadata": {
        "colab": {
          "base_uri": "https://localhost:8080/"
        },
        "id": "TRda71S38m4r",
        "outputId": "01710c34-e3e8-4c55-ec68-58d2722de7bb"
      },
      "source": [
        "model.summary()"
      ],
      "execution_count": 16,
      "outputs": [
        {
          "output_type": "stream",
          "text": [
            "Model: \"model_3\"\n",
            "_________________________________________________________________\n",
            "Layer (type)                 Output Shape              Param #   \n",
            "=================================================================\n",
            "input_4 (InputLayer)         [(None, 32, 32, 3)]       0         \n",
            "_________________________________________________________________\n",
            "conv2d_18 (Conv2D)           (None, 32, 32, 32)        896       \n",
            "_________________________________________________________________\n",
            "batch_normalization_18 (Batc (None, 32, 32, 32)        128       \n",
            "_________________________________________________________________\n",
            "conv2d_19 (Conv2D)           (None, 32, 32, 32)        9248      \n",
            "_________________________________________________________________\n",
            "batch_normalization_19 (Batc (None, 32, 32, 32)        128       \n",
            "_________________________________________________________________\n",
            "max_pooling2d_9 (MaxPooling2 (None, 16, 16, 32)        0         \n",
            "_________________________________________________________________\n",
            "conv2d_20 (Conv2D)           (None, 16, 16, 64)        18496     \n",
            "_________________________________________________________________\n",
            "batch_normalization_20 (Batc (None, 16, 16, 64)        256       \n",
            "_________________________________________________________________\n",
            "conv2d_21 (Conv2D)           (None, 16, 16, 64)        36928     \n",
            "_________________________________________________________________\n",
            "batch_normalization_21 (Batc (None, 16, 16, 64)        256       \n",
            "_________________________________________________________________\n",
            "max_pooling2d_10 (MaxPooling (None, 8, 8, 64)          0         \n",
            "_________________________________________________________________\n",
            "conv2d_22 (Conv2D)           (None, 8, 8, 128)         73856     \n",
            "_________________________________________________________________\n",
            "batch_normalization_22 (Batc (None, 8, 8, 128)         512       \n",
            "_________________________________________________________________\n",
            "conv2d_23 (Conv2D)           (None, 8, 8, 128)         147584    \n",
            "_________________________________________________________________\n",
            "batch_normalization_23 (Batc (None, 8, 8, 128)         512       \n",
            "_________________________________________________________________\n",
            "max_pooling2d_11 (MaxPooling (None, 4, 4, 128)         0         \n",
            "_________________________________________________________________\n",
            "flatten_3 (Flatten)          (None, 2048)              0         \n",
            "_________________________________________________________________\n",
            "dropout_6 (Dropout)          (None, 2048)              0         \n",
            "_________________________________________________________________\n",
            "dense_6 (Dense)              (None, 1024)              2098176   \n",
            "_________________________________________________________________\n",
            "dropout_7 (Dropout)          (None, 1024)              0         \n",
            "_________________________________________________________________\n",
            "dense_7 (Dense)              (None, 10)                10250     \n",
            "=================================================================\n",
            "Total params: 2,397,226\n",
            "Trainable params: 2,396,330\n",
            "Non-trainable params: 896\n",
            "_________________________________________________________________\n"
          ],
          "name": "stdout"
        }
      ]
    },
    {
      "cell_type": "code",
      "metadata": {
        "colab": {
          "base_uri": "https://localhost:8080/"
        },
        "id": "cV4IlFmK8n3u",
        "outputId": "fdffcabd-f67b-444b-e732-9fa89f23913b"
      },
      "source": [
        "r = model.fit(x=x_train, y=y_train, \r\n",
        "          epochs=50, validation_data=(x_test, y_test), \r\n",
        "          use_multiprocessing=True)"
      ],
      "execution_count": 9,
      "outputs": [
        {
          "output_type": "stream",
          "text": [
            "Epoch 1/50\n",
            "1563/1563 [==============================] - 16s 6ms/step - loss: 1.8010 - accuracy: 0.4429 - val_loss: 0.9604 - val_accuracy: 0.6629\n",
            "Epoch 2/50\n",
            "1563/1563 [==============================] - 8s 5ms/step - loss: 0.8738 - accuracy: 0.6951 - val_loss: 0.7709 - val_accuracy: 0.7350\n",
            "Epoch 3/50\n",
            "1563/1563 [==============================] - 8s 5ms/step - loss: 0.7055 - accuracy: 0.7560 - val_loss: 0.6808 - val_accuracy: 0.7691\n",
            "Epoch 4/50\n",
            "1563/1563 [==============================] - 8s 5ms/step - loss: 0.5806 - accuracy: 0.8020 - val_loss: 0.7998 - val_accuracy: 0.7244\n",
            "Epoch 5/50\n",
            "1563/1563 [==============================] - 8s 5ms/step - loss: 0.4769 - accuracy: 0.8344 - val_loss: 0.6918 - val_accuracy: 0.7749\n",
            "Epoch 6/50\n",
            "1563/1563 [==============================] - 8s 5ms/step - loss: 0.4003 - accuracy: 0.8628 - val_loss: 0.6124 - val_accuracy: 0.8048\n",
            "Epoch 7/50\n",
            "1563/1563 [==============================] - 9s 5ms/step - loss: 0.3366 - accuracy: 0.8838 - val_loss: 0.6671 - val_accuracy: 0.7899\n",
            "Epoch 8/50\n",
            "1563/1563 [==============================] - 9s 6ms/step - loss: 0.2790 - accuracy: 0.9033 - val_loss: 0.6829 - val_accuracy: 0.7987\n",
            "Epoch 9/50\n",
            "1563/1563 [==============================] - 8s 5ms/step - loss: 0.2367 - accuracy: 0.9169 - val_loss: 0.6918 - val_accuracy: 0.8021\n",
            "Epoch 10/50\n",
            "1563/1563 [==============================] - 8s 5ms/step - loss: 0.2022 - accuracy: 0.9292 - val_loss: 0.5904 - val_accuracy: 0.8180\n",
            "Epoch 11/50\n",
            "1563/1563 [==============================] - 8s 5ms/step - loss: 0.1847 - accuracy: 0.9374 - val_loss: 0.6522 - val_accuracy: 0.8216\n",
            "Epoch 12/50\n",
            "1563/1563 [==============================] - 8s 5ms/step - loss: 0.1446 - accuracy: 0.9497 - val_loss: 0.7245 - val_accuracy: 0.8082\n",
            "Epoch 13/50\n",
            "1563/1563 [==============================] - 8s 5ms/step - loss: 0.1392 - accuracy: 0.9522 - val_loss: 0.6542 - val_accuracy: 0.8217\n",
            "Epoch 14/50\n",
            "1563/1563 [==============================] - 8s 5ms/step - loss: 0.1322 - accuracy: 0.9555 - val_loss: 0.6855 - val_accuracy: 0.8217\n",
            "Epoch 15/50\n",
            "1563/1563 [==============================] - 8s 5ms/step - loss: 0.1213 - accuracy: 0.9585 - val_loss: 0.7689 - val_accuracy: 0.8099\n",
            "Epoch 16/50\n",
            "1563/1563 [==============================] - 8s 5ms/step - loss: 0.1141 - accuracy: 0.9611 - val_loss: 0.7351 - val_accuracy: 0.8246\n",
            "Epoch 17/50\n",
            "1563/1563 [==============================] - 8s 5ms/step - loss: 0.1073 - accuracy: 0.9635 - val_loss: 0.7413 - val_accuracy: 0.8341\n",
            "Epoch 18/50\n",
            "1563/1563 [==============================] - 8s 5ms/step - loss: 0.0943 - accuracy: 0.9685 - val_loss: 0.7647 - val_accuracy: 0.8273\n",
            "Epoch 19/50\n",
            "1563/1563 [==============================] - 8s 5ms/step - loss: 0.0948 - accuracy: 0.9677 - val_loss: 0.7460 - val_accuracy: 0.8193\n",
            "Epoch 20/50\n",
            "1563/1563 [==============================] - 8s 5ms/step - loss: 0.0900 - accuracy: 0.9702 - val_loss: 0.8033 - val_accuracy: 0.8286\n",
            "Epoch 21/50\n",
            "1563/1563 [==============================] - 8s 5ms/step - loss: 0.0851 - accuracy: 0.9717 - val_loss: 0.6859 - val_accuracy: 0.8379\n",
            "Epoch 22/50\n",
            "1563/1563 [==============================] - 8s 5ms/step - loss: 0.0750 - accuracy: 0.9747 - val_loss: 0.8154 - val_accuracy: 0.8314\n",
            "Epoch 23/50\n",
            "1563/1563 [==============================] - 8s 5ms/step - loss: 0.0804 - accuracy: 0.9742 - val_loss: 0.7790 - val_accuracy: 0.8282\n",
            "Epoch 24/50\n",
            "1563/1563 [==============================] - 8s 5ms/step - loss: 0.0715 - accuracy: 0.9770 - val_loss: 1.0037 - val_accuracy: 0.7856\n",
            "Epoch 25/50\n",
            "1563/1563 [==============================] - 8s 5ms/step - loss: 0.0715 - accuracy: 0.9767 - val_loss: 0.7433 - val_accuracy: 0.8290\n",
            "Epoch 26/50\n",
            "1563/1563 [==============================] - 8s 5ms/step - loss: 0.0627 - accuracy: 0.9785 - val_loss: 0.8552 - val_accuracy: 0.8269\n",
            "Epoch 27/50\n",
            "1563/1563 [==============================] - 8s 5ms/step - loss: 0.0682 - accuracy: 0.9780 - val_loss: 0.8031 - val_accuracy: 0.8334\n",
            "Epoch 28/50\n",
            "1563/1563 [==============================] - 8s 5ms/step - loss: 0.0611 - accuracy: 0.9795 - val_loss: 0.8152 - val_accuracy: 0.8365\n",
            "Epoch 29/50\n",
            "1563/1563 [==============================] - 8s 5ms/step - loss: 0.0653 - accuracy: 0.9797 - val_loss: 0.9476 - val_accuracy: 0.8260\n",
            "Epoch 30/50\n",
            "1563/1563 [==============================] - 8s 5ms/step - loss: 0.0582 - accuracy: 0.9801 - val_loss: 0.8526 - val_accuracy: 0.8334\n",
            "Epoch 31/50\n",
            "1563/1563 [==============================] - 8s 5ms/step - loss: 0.0592 - accuracy: 0.9813 - val_loss: 0.8325 - val_accuracy: 0.8267\n",
            "Epoch 32/50\n",
            "1563/1563 [==============================] - 8s 5ms/step - loss: 0.0579 - accuracy: 0.9812 - val_loss: 0.8731 - val_accuracy: 0.8233\n",
            "Epoch 33/50\n",
            "1563/1563 [==============================] - 8s 5ms/step - loss: 0.0544 - accuracy: 0.9832 - val_loss: 0.7842 - val_accuracy: 0.8429\n",
            "Epoch 34/50\n",
            "1563/1563 [==============================] - 8s 5ms/step - loss: 0.0490 - accuracy: 0.9836 - val_loss: 0.8886 - val_accuracy: 0.8204\n",
            "Epoch 35/50\n",
            "1563/1563 [==============================] - 8s 5ms/step - loss: 0.0512 - accuracy: 0.9835 - val_loss: 0.8913 - val_accuracy: 0.8351\n",
            "Epoch 36/50\n",
            "1563/1563 [==============================] - 8s 5ms/step - loss: 0.0515 - accuracy: 0.9837 - val_loss: 0.8381 - val_accuracy: 0.8364\n",
            "Epoch 37/50\n",
            "1563/1563 [==============================] - 8s 5ms/step - loss: 0.0510 - accuracy: 0.9830 - val_loss: 0.8727 - val_accuracy: 0.8372\n",
            "Epoch 38/50\n",
            "1563/1563 [==============================] - 8s 5ms/step - loss: 0.0496 - accuracy: 0.9843 - val_loss: 0.8620 - val_accuracy: 0.8337\n",
            "Epoch 39/50\n",
            "1563/1563 [==============================] - 8s 5ms/step - loss: 0.0504 - accuracy: 0.9845 - val_loss: 0.8254 - val_accuracy: 0.8393\n",
            "Epoch 40/50\n",
            "1563/1563 [==============================] - 8s 5ms/step - loss: 0.0416 - accuracy: 0.9870 - val_loss: 0.8297 - val_accuracy: 0.8411\n",
            "Epoch 41/50\n",
            "1563/1563 [==============================] - 8s 5ms/step - loss: 0.0411 - accuracy: 0.9870 - val_loss: 0.9247 - val_accuracy: 0.8205\n",
            "Epoch 42/50\n",
            "1563/1563 [==============================] - 8s 5ms/step - loss: 0.0513 - accuracy: 0.9829 - val_loss: 0.8971 - val_accuracy: 0.8421\n",
            "Epoch 43/50\n",
            "1563/1563 [==============================] - 8s 5ms/step - loss: 0.0460 - accuracy: 0.9847 - val_loss: 0.8420 - val_accuracy: 0.8407\n",
            "Epoch 44/50\n",
            "1563/1563 [==============================] - 8s 5ms/step - loss: 0.0444 - accuracy: 0.9856 - val_loss: 0.8881 - val_accuracy: 0.8309\n",
            "Epoch 45/50\n",
            "1563/1563 [==============================] - 9s 6ms/step - loss: 0.0399 - accuracy: 0.9872 - val_loss: 1.0178 - val_accuracy: 0.8342\n",
            "Epoch 46/50\n",
            "1563/1563 [==============================] - 8s 5ms/step - loss: 0.0445 - accuracy: 0.9856 - val_loss: 0.8925 - val_accuracy: 0.8414\n",
            "Epoch 47/50\n",
            "1563/1563 [==============================] - 8s 5ms/step - loss: 0.0372 - accuracy: 0.9874 - val_loss: 1.0697 - val_accuracy: 0.8374\n",
            "Epoch 48/50\n",
            "1563/1563 [==============================] - 8s 5ms/step - loss: 0.0403 - accuracy: 0.9866 - val_loss: 0.9160 - val_accuracy: 0.8421\n",
            "Epoch 49/50\n",
            "1563/1563 [==============================] - 8s 5ms/step - loss: 0.0438 - accuracy: 0.9865 - val_loss: 0.8742 - val_accuracy: 0.8347\n",
            "Epoch 50/50\n",
            "1563/1563 [==============================] - 8s 5ms/step - loss: 0.0363 - accuracy: 0.9885 - val_loss: 0.8799 - val_accuracy: 0.8397\n"
          ],
          "name": "stdout"
        }
      ]
    },
    {
      "cell_type": "code",
      "metadata": {
        "colab": {
          "base_uri": "https://localhost:8080/"
        },
        "id": "fP3iFiyo9Gea",
        "outputId": "9403a639-e040-47a8-b6d0-0b3b3991bd9a"
      },
      "source": [
        "batch_size = 32\r\n",
        "data_generator = tf.keras.preprocessing.image.ImageDataGenerator(width_shift_range=0.1, \r\n",
        "                                                                 height_shift_range=0.1, \r\n",
        "                                                                 horizontal_flip=True)\r\n",
        "train_generator = data_generator.flow(x=x_train, y=y_train, \r\n",
        "                                      batch_size=batch_size)\r\n",
        "steps_per_epoch = x_train.shape[0] // batch_size\r\n",
        "r = model.fit(train_generator, \r\n",
        "              steps_per_epoch=steps_per_epoch,\r\n",
        "              epochs=50, validation_data=(x_test, y_test))"
      ],
      "execution_count": 17,
      "outputs": [
        {
          "output_type": "stream",
          "text": [
            "Epoch 1/50\n",
            "1562/1562 [==============================] - 25s 16ms/step - loss: 1.8583 - accuracy: 0.4097 - val_loss: 1.0581 - val_accuracy: 0.6271\n",
            "Epoch 2/50\n",
            "1562/1562 [==============================] - 24s 16ms/step - loss: 1.0396 - accuracy: 0.6369 - val_loss: 0.9113 - val_accuracy: 0.6911\n",
            "Epoch 3/50\n",
            "1562/1562 [==============================] - 24s 15ms/step - loss: 0.8774 - accuracy: 0.6981 - val_loss: 0.8445 - val_accuracy: 0.7133\n",
            "Epoch 4/50\n",
            "1562/1562 [==============================] - 24s 15ms/step - loss: 0.7884 - accuracy: 0.7270 - val_loss: 0.7050 - val_accuracy: 0.7610\n",
            "Epoch 5/50\n",
            "1562/1562 [==============================] - 24s 15ms/step - loss: 0.7057 - accuracy: 0.7565 - val_loss: 0.6294 - val_accuracy: 0.7883\n",
            "Epoch 6/50\n",
            "1562/1562 [==============================] - 24s 15ms/step - loss: 0.6510 - accuracy: 0.7777 - val_loss: 0.6314 - val_accuracy: 0.7891\n",
            "Epoch 7/50\n",
            "1562/1562 [==============================] - 24s 15ms/step - loss: 0.6026 - accuracy: 0.7947 - val_loss: 0.6257 - val_accuracy: 0.7943\n",
            "Epoch 8/50\n",
            "1562/1562 [==============================] - 24s 16ms/step - loss: 0.5722 - accuracy: 0.8037 - val_loss: 0.5474 - val_accuracy: 0.8129\n",
            "Epoch 9/50\n",
            "1562/1562 [==============================] - 24s 15ms/step - loss: 0.5300 - accuracy: 0.8197 - val_loss: 0.5291 - val_accuracy: 0.8183\n",
            "Epoch 10/50\n",
            "1562/1562 [==============================] - 24s 16ms/step - loss: 0.5072 - accuracy: 0.8285 - val_loss: 0.5264 - val_accuracy: 0.8224\n",
            "Epoch 11/50\n",
            "1562/1562 [==============================] - 25s 16ms/step - loss: 0.4761 - accuracy: 0.8383 - val_loss: 0.5611 - val_accuracy: 0.8135\n",
            "Epoch 12/50\n",
            "1562/1562 [==============================] - 24s 15ms/step - loss: 0.4713 - accuracy: 0.8395 - val_loss: 0.4839 - val_accuracy: 0.8437\n",
            "Epoch 13/50\n",
            "1562/1562 [==============================] - 24s 15ms/step - loss: 0.4333 - accuracy: 0.8516 - val_loss: 0.4939 - val_accuracy: 0.8355\n",
            "Epoch 14/50\n",
            "1562/1562 [==============================] - 24s 16ms/step - loss: 0.4174 - accuracy: 0.8557 - val_loss: 0.4528 - val_accuracy: 0.8519\n",
            "Epoch 15/50\n",
            "1562/1562 [==============================] - 25s 16ms/step - loss: 0.3933 - accuracy: 0.8646 - val_loss: 0.6014 - val_accuracy: 0.8117\n",
            "Epoch 16/50\n",
            "1562/1562 [==============================] - 24s 15ms/step - loss: 0.3839 - accuracy: 0.8686 - val_loss: 0.4973 - val_accuracy: 0.8356\n",
            "Epoch 17/50\n",
            "1562/1562 [==============================] - 24s 15ms/step - loss: 0.3635 - accuracy: 0.8737 - val_loss: 0.5068 - val_accuracy: 0.8382\n",
            "Epoch 18/50\n",
            "1562/1562 [==============================] - 24s 15ms/step - loss: 0.3619 - accuracy: 0.8767 - val_loss: 0.4243 - val_accuracy: 0.8606\n",
            "Epoch 19/50\n",
            "1562/1562 [==============================] - 24s 15ms/step - loss: 0.3388 - accuracy: 0.8828 - val_loss: 0.4943 - val_accuracy: 0.8382\n",
            "Epoch 20/50\n",
            "1562/1562 [==============================] - 24s 15ms/step - loss: 0.3308 - accuracy: 0.8852 - val_loss: 0.4274 - val_accuracy: 0.8606\n",
            "Epoch 21/50\n",
            "1562/1562 [==============================] - 24s 15ms/step - loss: 0.3222 - accuracy: 0.8888 - val_loss: 0.4186 - val_accuracy: 0.8659\n",
            "Epoch 22/50\n",
            "1562/1562 [==============================] - 24s 15ms/step - loss: 0.3136 - accuracy: 0.8921 - val_loss: 0.4284 - val_accuracy: 0.8638\n",
            "Epoch 23/50\n",
            "1562/1562 [==============================] - 24s 15ms/step - loss: 0.3033 - accuracy: 0.8955 - val_loss: 0.4361 - val_accuracy: 0.8605\n",
            "Epoch 24/50\n",
            "1562/1562 [==============================] - 24s 15ms/step - loss: 0.2938 - accuracy: 0.8986 - val_loss: 0.4210 - val_accuracy: 0.8652\n",
            "Epoch 25/50\n",
            "1562/1562 [==============================] - 24s 16ms/step - loss: 0.2895 - accuracy: 0.8992 - val_loss: 0.4169 - val_accuracy: 0.8669\n",
            "Epoch 26/50\n",
            "1562/1562 [==============================] - 24s 15ms/step - loss: 0.2836 - accuracy: 0.9037 - val_loss: 0.4008 - val_accuracy: 0.8722\n",
            "Epoch 27/50\n",
            "1562/1562 [==============================] - 24s 15ms/step - loss: 0.2690 - accuracy: 0.9083 - val_loss: 0.4307 - val_accuracy: 0.8632\n",
            "Epoch 28/50\n",
            "1562/1562 [==============================] - 25s 16ms/step - loss: 0.2665 - accuracy: 0.9063 - val_loss: 0.5002 - val_accuracy: 0.8535\n",
            "Epoch 29/50\n",
            "1562/1562 [==============================] - 24s 16ms/step - loss: 0.2612 - accuracy: 0.9112 - val_loss: 0.3849 - val_accuracy: 0.8771\n",
            "Epoch 30/50\n",
            "1562/1562 [==============================] - 24s 15ms/step - loss: 0.2577 - accuracy: 0.9113 - val_loss: 0.3702 - val_accuracy: 0.8804\n",
            "Epoch 31/50\n",
            "1562/1562 [==============================] - 24s 16ms/step - loss: 0.2524 - accuracy: 0.9120 - val_loss: 0.3869 - val_accuracy: 0.8760\n",
            "Epoch 32/50\n",
            "1562/1562 [==============================] - 24s 15ms/step - loss: 0.2432 - accuracy: 0.9165 - val_loss: 0.3853 - val_accuracy: 0.8773\n",
            "Epoch 33/50\n",
            "1562/1562 [==============================] - 24s 16ms/step - loss: 0.2379 - accuracy: 0.9172 - val_loss: 0.3985 - val_accuracy: 0.8726\n",
            "Epoch 34/50\n",
            "1562/1562 [==============================] - 24s 16ms/step - loss: 0.2386 - accuracy: 0.9171 - val_loss: 0.4140 - val_accuracy: 0.8691\n",
            "Epoch 35/50\n",
            "1562/1562 [==============================] - 24s 16ms/step - loss: 0.2334 - accuracy: 0.9181 - val_loss: 0.3983 - val_accuracy: 0.8764\n",
            "Epoch 36/50\n",
            "1562/1562 [==============================] - 24s 16ms/step - loss: 0.2279 - accuracy: 0.9233 - val_loss: 0.4311 - val_accuracy: 0.8723\n",
            "Epoch 37/50\n",
            "1562/1562 [==============================] - 24s 15ms/step - loss: 0.2250 - accuracy: 0.9214 - val_loss: 0.3878 - val_accuracy: 0.8808\n",
            "Epoch 38/50\n",
            "1562/1562 [==============================] - 24s 16ms/step - loss: 0.2172 - accuracy: 0.9257 - val_loss: 0.4062 - val_accuracy: 0.8758\n",
            "Epoch 39/50\n",
            "1562/1562 [==============================] - 24s 16ms/step - loss: 0.2140 - accuracy: 0.9256 - val_loss: 0.4386 - val_accuracy: 0.8719\n",
            "Epoch 40/50\n",
            "1562/1562 [==============================] - 24s 15ms/step - loss: 0.2079 - accuracy: 0.9298 - val_loss: 0.4518 - val_accuracy: 0.8688\n",
            "Epoch 41/50\n",
            "1562/1562 [==============================] - 25s 16ms/step - loss: 0.2100 - accuracy: 0.9275 - val_loss: 0.4387 - val_accuracy: 0.8679\n",
            "Epoch 42/50\n",
            "1562/1562 [==============================] - 24s 16ms/step - loss: 0.2056 - accuracy: 0.9272 - val_loss: 0.4332 - val_accuracy: 0.8737\n",
            "Epoch 43/50\n",
            "1562/1562 [==============================] - 24s 15ms/step - loss: 0.2050 - accuracy: 0.9303 - val_loss: 0.3867 - val_accuracy: 0.8782\n",
            "Epoch 44/50\n",
            "1562/1562 [==============================] - 24s 16ms/step - loss: 0.2024 - accuracy: 0.9287 - val_loss: 0.4191 - val_accuracy: 0.8718\n",
            "Epoch 45/50\n",
            "1562/1562 [==============================] - 24s 16ms/step - loss: 0.1940 - accuracy: 0.9321 - val_loss: 0.4182 - val_accuracy: 0.8731\n",
            "Epoch 46/50\n",
            "1562/1562 [==============================] - 24s 16ms/step - loss: 0.1967 - accuracy: 0.9327 - val_loss: 0.4609 - val_accuracy: 0.8672\n",
            "Epoch 47/50\n",
            "1562/1562 [==============================] - 24s 15ms/step - loss: 0.1886 - accuracy: 0.9354 - val_loss: 0.4597 - val_accuracy: 0.8724\n",
            "Epoch 48/50\n",
            "1562/1562 [==============================] - 25s 16ms/step - loss: 0.1844 - accuracy: 0.9373 - val_loss: 0.3843 - val_accuracy: 0.8771\n",
            "Epoch 49/50\n",
            "1562/1562 [==============================] - 24s 16ms/step - loss: 0.1862 - accuracy: 0.9346 - val_loss: 0.4496 - val_accuracy: 0.8665\n",
            "Epoch 50/50\n",
            "1562/1562 [==============================] - 24s 15ms/step - loss: 0.1884 - accuracy: 0.9363 - val_loss: 0.4051 - val_accuracy: 0.8815\n"
          ],
          "name": "stdout"
        }
      ]
    },
    {
      "cell_type": "code",
      "metadata": {
        "colab": {
          "base_uri": "https://localhost:8080/",
          "height": 265
        },
        "id": "GP9jZe6EBufd",
        "outputId": "1cf7fb08-a12d-4693-cab7-5ccabcda158d"
      },
      "source": [
        "plt.plot(r.history[\"loss\"], label=\"loss\")\r\n",
        "plt.plot(r.history[\"val_loss\"], label=\"val_loss\")\r\n",
        "plt.legend()\r\n",
        "plt.show()"
      ],
      "execution_count": 18,
      "outputs": [
        {
          "output_type": "display_data",
          "data": {
            "image/png": "[encoded data removed]",
            "text/plain": [
              "<Figure size 432x288 with 1 Axes>"
            ]
          },
          "metadata": {
            "tags": [],
            "needs_background": "light"
          }
        }
      ]
    },
    {
      "cell_type": "code",
      "metadata": {
        "colab": {
          "base_uri": "https://localhost:8080/",
          "height": 265
        },
        "id": "tDRme8weG2rw",
        "outputId": "a863d3da-3266-4c7b-c5e7-cd19b03ded7e"
      },
      "source": [
        "plt.plot(r.history[\"accuracy\"], label=\"accuracy\")\r\n",
        "plt.plot(r.history[\"val_accuracy\"], label=\"val_accuracy\")\r\n",
        "plt.legend()\r\n",
        "plt.show()"
      ],
      "execution_count": 19,
      "outputs": [
        {
          "output_type": "display_data",
          "data": {
            "image/png": "[encoded data removed]",
            "text/plain": [
              "<Figure size 432x288 with 1 Axes>"
            ]
          },
          "metadata": {
            "tags": [],
            "needs_background": "light"
          }
        }
      ]
    },
    {
      "cell_type": "code",
      "metadata": {
        "colab": {
          "base_uri": "https://localhost:8080/",
          "height": 498
        },
        "id": "q-azHWpzG5Ll",
        "outputId": "10eb1123-91c5-470c-f987-d8a5e0af33e7"
      },
      "source": [
        "from sklearn.metrics import confusion_matrix\r\n",
        "import itertools\r\n",
        "\r\n",
        "def plot_confusion_matrix(cm, classes, \r\n",
        "                          normalize=False, \r\n",
        "                          title=\"Confusion matrix\", \r\n",
        "                          cmap=plt.cm.Blues):\r\n",
        "    \r\n",
        "    if normalize:\r\n",
        "        cm = cm.astype(\"float\") / cm.sum(axis=1)[:, np.newaxis]\r\n",
        "        print(\"Normalized confusion matrix\")\r\n",
        "    else:\r\n",
        "        print(\"Confusion matrix, without normalization\")\r\n",
        "    \r\n",
        "    print(cm)\r\n",
        "\r\n",
        "    plt.imshow(cm, interpolation=\"nearest\", cmap=cmap)\r\n",
        "    plt.title(title)\r\n",
        "    plt.colorbar()\r\n",
        "    tick_marks = np.arange(len(classes))\r\n",
        "    plt.xticks(tick_marks, classes, rotation=45)\r\n",
        "    plt.yticks(tick_marks, classes)\r\n",
        "\r\n",
        "    fmt = \".2f\" if normalize else \"d\"\r\n",
        "    thresh = cm.max() / 2.\r\n",
        "    for i, j in itertools.product(range(cm.shape[0]), range(cm.shape[1])):\r\n",
        "        plt.text(j, i, format(cm[i, j], fmt), \r\n",
        "                 horizontalalignment=\"center\", \r\n",
        "                 color=\"white\" if cm[i, j] > thresh else \"black\")\r\n",
        "        \r\n",
        "    plt.tight_layout()\r\n",
        "    plt.ylabel(\"True label\")\r\n",
        "    plt.xlabel(\"predicted label\")\r\n",
        "    plt.show()\r\n",
        "\r\n",
        "p_test = model.predict(x_test).argmax(axis=1)\r\n",
        "cm = confusion_matrix(y_test, p_test)\r\n",
        "plot_confusion_matrix(cm, list(range(10)))"
      ],
      "execution_count": 20,
      "outputs": [
        {
          "output_type": "stream",
          "text": [
            "Confusion matrix, without normalization\n",
            "[[898   7  21  10  11   2   3   4  33  11]\n",
            " [  6 950   1   1   0   0   1   0   8  33]\n",
            " [ 21   1 841  16  33  17  50  14   4   3]\n",
            " [  7   2  42 720  48  71  72  22   7   9]\n",
            " [  5   1  23  11 902   4  36  15   1   2]\n",
            " [  4   3  27 119  37 757  29  17   1   6]\n",
            " [  3   0  18  14  10   2 946   2   4   1]\n",
            " [  6   0  11  10  25   8   4 930   3   3]\n",
            " [ 24  11   4   2   2   1   5   2 935  14]\n",
            " [  5  42   2   2   1   1   4   0   7 936]]\n"
          ],
          "name": "stdout"
        },
        {
          "output_type": "display_data",
          "data": {
            "image/png": "[encoded data removed]",
            "text/plain": [
              "<Figure size 432x288 with 2 Axes>"
            ]
          },
          "metadata": {
            "tags": [],
            "needs_background": "light"
          }
        }
      ]
    },
    {
      "cell_type": "code",
      "metadata": {
        "colab": {
          "base_uri": "https://localhost:8080/",
          "height": 281
        },
        "id": "4ULmVQnFG95a",
        "outputId": "be630376-8489-4992-c9e1-c22786d9248e"
      },
      "source": [
        "labels = \"\"\"Airplane\r\n",
        "Automobile\r\n",
        "Bird\r\n",
        "Cat\r\n",
        "Deer\r\n",
        "Dog\r\n",
        "Frog\r\n",
        "Horse\r\n",
        "Shipo\r\n",
        "Truck\"\"\".split()\r\n",
        "\r\n",
        "misclassified_idx = np.where(p_test != y_test)[0]\r\n",
        "i = np.random.choice(misclassified_idx)\r\n",
        "plt.imshow(x_test[i], cmap=\"gray\")\r\n",
        "plt.title(\"True label: %s    Predicted: %s\" % (labels[y_test[i]], labels[p_test[i]]))\r\n",
        "plt.show()"
      ],
      "execution_count": 22,
      "outputs": [
        {
          "output_type": "display_data",
          "data": {
            "image/png": "[encoded data removed]",
            "text/plain": [
              "<Figure size 432x288 with 1 Axes>"
            ]
          },
          "metadata": {
            "tags": [],
            "needs_background": "light"
          }
        }
      ]
    },
    {
      "cell_type": "code",
      "metadata": {
        "id": "r2MXjazoHDu9"
      },
      "source": [
        ""
      ],
      "execution_count": null,
      "outputs": []
    }
  ]
}