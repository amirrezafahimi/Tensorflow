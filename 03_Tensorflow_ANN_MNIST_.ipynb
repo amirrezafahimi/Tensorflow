{
  "nbformat": 4,
  "nbformat_minor": 0,
  "metadata": {
    "colab": {
      "name": "03 - Tensorflow ANN MNIST .ipynb",
      "provenance": []
    },
    "kernelspec": {
      "name": "python3",
      "display_name": "Python 3"
    },
    "accelerator": "GPU"
  },
  "cells": [
    {
      "cell_type": "code",
      "metadata": {
        "colab": {
          "base_uri": "https://localhost:8080/"
        },
        "id": "Z4t2DlAg8b3c",
        "outputId": "9b4cc74b-b237-484a-fd09-f99c5b86f14d"
      },
      "source": [
        "import tensorflow as tf\r\n",
        "print(tf.__version__)"
      ],
      "execution_count": 1,
      "outputs": [
        {
          "output_type": "stream",
          "text": [
            "2.4.0\n"
          ],
          "name": "stdout"
        }
      ]
    },
    {
      "cell_type": "code",
      "metadata": {
        "colab": {
          "base_uri": "https://localhost:8080/"
        },
        "id": "n9RUYGNK8laL",
        "outputId": "ef59b41e-d3a9-48fc-8864-2ee5bb897754"
      },
      "source": [
        "mnist = tf.keras.datasets.mnist\r\n",
        "\r\n",
        "(x_train, y_train), (x_test, y_test) = mnist.load_data()\r\n",
        "x_train, x_test = x_train / 255.0, x_test / 255.0\r\n",
        "print(\"x_train.shape\", x_train.shape)"
      ],
      "execution_count": 2,
      "outputs": [
        {
          "output_type": "stream",
          "text": [
            "Downloading data from https://storage.googleapis.com/tensorflow/tf-keras-datasets/mnist.npz\n",
            "11493376/11490434 [==============================] - 0s 0us/step\n",
            "x_train.shape (60000, 28, 28)\n"
          ],
          "name": "stdout"
        }
      ]
    },
    {
      "cell_type": "code",
      "metadata": {
        "id": "YiIiRsen9NfR"
      },
      "source": [
        "model = tf.keras.models.Sequential([    \r\n",
        "    tf.keras.layers.Flatten(input_shape=(28, 28)), \r\n",
        "    tf.keras.layers.Dense(units=128, activation=tf.keras.activations.relu), \r\n",
        "    tf.keras.layers.Dropout(rate=0.2), \r\n",
        "    tf.keras.layers.Dense(units=10, activation=tf.keras.activations.softmax)\r\n",
        "])"
      ],
      "execution_count": 11,
      "outputs": []
    },
    {
      "cell_type": "code",
      "metadata": {
        "id": "8Zde_NOj-p1B"
      },
      "source": [
        "model.compile(optimizer=tf.keras.optimizers.Adam(), \r\n",
        "              loss=tf.keras.losses.sparse_categorical_crossentropy, \r\n",
        "              metrics=[\"accuracy\"])"
      ],
      "execution_count": 12,
      "outputs": []
    },
    {
      "cell_type": "code",
      "metadata": {
        "colab": {
          "base_uri": "https://localhost:8080/"
        },
        "id": "31bO-02g_JXS",
        "outputId": "cbd947fc-9cf6-4ffa-e421-0a25fb7b7380"
      },
      "source": [
        "model.summary()"
      ],
      "execution_count": 13,
      "outputs": [
        {
          "output_type": "stream",
          "text": [
            "Model: \"sequential_2\"\n",
            "_________________________________________________________________\n",
            "Layer (type)                 Output Shape              Param #   \n",
            "=================================================================\n",
            "flatten_2 (Flatten)          (None, 784)               0         \n",
            "_________________________________________________________________\n",
            "dense_4 (Dense)              (None, 128)               100480    \n",
            "_________________________________________________________________\n",
            "dropout_2 (Dropout)          (None, 128)               0         \n",
            "_________________________________________________________________\n",
            "dense_5 (Dense)              (None, 10)                1290      \n",
            "=================================================================\n",
            "Total params: 101,770\n",
            "Trainable params: 101,770\n",
            "Non-trainable params: 0\n",
            "_________________________________________________________________\n"
          ],
          "name": "stdout"
        }
      ]
    },
    {
      "cell_type": "code",
      "metadata": {
        "colab": {
          "base_uri": "https://localhost:8080/"
        },
        "id": "chBZsIYU_KWp",
        "outputId": "59f4a6c3-465c-4e6a-ea9f-e8f3cab15584"
      },
      "source": [
        "r = model.fit(x=x_train, y=y_train, epochs=10, \r\n",
        "              validation_data=(x_test, y_test), \r\n",
        "              use_multiprocessing=True)"
      ],
      "execution_count": 14,
      "outputs": [
        {
          "output_type": "stream",
          "text": [
            "Epoch 1/10\n",
            "1875/1875 [==============================] - 4s 2ms/step - loss: 0.4727 - accuracy: 0.8611 - val_loss: 0.1384 - val_accuracy: 0.9566\n",
            "Epoch 2/10\n",
            "1875/1875 [==============================] - 3s 2ms/step - loss: 0.1494 - accuracy: 0.9566 - val_loss: 0.0961 - val_accuracy: 0.9701\n",
            "Epoch 3/10\n",
            "1875/1875 [==============================] - 3s 2ms/step - loss: 0.1069 - accuracy: 0.9685 - val_loss: 0.0891 - val_accuracy: 0.9729\n",
            "Epoch 4/10\n",
            "1875/1875 [==============================] - 3s 2ms/step - loss: 0.0862 - accuracy: 0.9726 - val_loss: 0.0866 - val_accuracy: 0.9726\n",
            "Epoch 5/10\n",
            "1875/1875 [==============================] - 3s 2ms/step - loss: 0.0725 - accuracy: 0.9778 - val_loss: 0.0749 - val_accuracy: 0.9769\n",
            "Epoch 6/10\n",
            "1875/1875 [==============================] - 3s 2ms/step - loss: 0.0621 - accuracy: 0.9804 - val_loss: 0.0714 - val_accuracy: 0.9786\n",
            "Epoch 7/10\n",
            "1875/1875 [==============================] - 3s 2ms/step - loss: 0.0558 - accuracy: 0.9816 - val_loss: 0.0725 - val_accuracy: 0.9753\n",
            "Epoch 8/10\n",
            "1875/1875 [==============================] - 3s 2ms/step - loss: 0.0504 - accuracy: 0.9835 - val_loss: 0.0746 - val_accuracy: 0.9776\n",
            "Epoch 9/10\n",
            "1875/1875 [==============================] - 3s 2ms/step - loss: 0.0449 - accuracy: 0.9852 - val_loss: 0.0716 - val_accuracy: 0.9789\n",
            "Epoch 10/10\n",
            "1875/1875 [==============================] - 3s 2ms/step - loss: 0.0426 - accuracy: 0.9854 - val_loss: 0.0677 - val_accuracy: 0.9810\n"
          ],
          "name": "stdout"
        }
      ]
    },
    {
      "cell_type": "code",
      "metadata": {
        "colab": {
          "base_uri": "https://localhost:8080/",
          "height": 268
        },
        "id": "mdb9LG-U_gMo",
        "outputId": "8b671908-8227-4131-c442-aa4c032323a8"
      },
      "source": [
        "import matplotlib.pyplot as plt\r\n",
        "\r\n",
        "plt.plot(r.history[\"loss\"], label=\"loss\")\r\n",
        "plt.plot(r.history[\"val_loss\"], label=\"val_loss\")\r\n",
        "plt.legend()\r\n",
        "plt.show()"
      ],
      "execution_count": 15,
      "outputs": [
        {
          "output_type": "display_data",
          "data": {
            "image/png": "[encoded data removed]",
            "text/plain": [
              "<Figure size 432x288 with 1 Axes>"
            ]
          },
          "metadata": {
            "tags": [],
            "needs_background": "light"
          }
        }
      ]
    },
    {
      "cell_type": "code",
      "metadata": {
        "colab": {
          "base_uri": "https://localhost:8080/",
          "height": 265
        },
        "id": "SbuvllQKAJZx",
        "outputId": "b2a23b39-11ba-4f87-a22c-ea699881dd30"
      },
      "source": [
        "plt.plot(r.history[\"accuracy\"], label=\"accuracy\")\r\n",
        "plt.plot(r.history[\"val_accuracy\"], label=\"val_accuracy\")\r\n",
        "plt.legend()\r\n",
        "plt.show()"
      ],
      "execution_count": 16,
      "outputs": [
        {
          "output_type": "display_data",
          "data": {
            "image/png": "[encoded data removed]",
            "text/plain": [
              "<Figure size 432x288 with 1 Axes>"
            ]
          },
          "metadata": {
            "tags": [],
            "needs_background": "light"
          }
        }
      ]
    },
    {
      "cell_type": "code",
      "metadata": {
        "colab": {
          "base_uri": "https://localhost:8080/"
        },
        "id": "9IDQjDw6AT8Y",
        "outputId": "8084de07-8560-442b-a1f2-24f6f2f65f87"
      },
      "source": [
        "print(model.evaluate(x_test, y_test))"
      ],
      "execution_count": 17,
      "outputs": [
        {
          "output_type": "stream",
          "text": [
            "313/313 [==============================] - 0s 1ms/step - loss: 0.0677 - accuracy: 0.9810\n",
            "[0.06766384094953537, 0.9810000061988831]\n"
          ],
          "name": "stdout"
        }
      ]
    },
    {
      "cell_type": "code",
      "metadata": {
        "id": "zxIckYTGAoJl"
      },
      "source": [
        "from sklearn.metrics import confusion_matrix\r\n",
        "import numpy as np\r\n",
        "import itertools"
      ],
      "execution_count": 18,
      "outputs": []
    },
    {
      "cell_type": "code",
      "metadata": {
        "colab": {
          "base_uri": "https://localhost:8080/",
          "height": 498
        },
        "id": "YnzQGJg2A0QU",
        "outputId": "80f75041-5c16-4958-ad41-984a53171fa8"
      },
      "source": [
        "def plot_confusion_matrix(cm, classes, \r\n",
        "                          normalize=False, \r\n",
        "                          title=\"Confusion matrix\", \r\n",
        "                          cmap=plt.cm.Blues):\r\n",
        "    \r\n",
        "    if normalize:\r\n",
        "        cm = cm.astype(\"float\") / cm.sum(axis=1)[:, np.newaxis]\r\n",
        "        print(\"Normalized confusion matrix\")\r\n",
        "    else:\r\n",
        "        print(\"Confusion matrix, without normalization\")\r\n",
        "    \r\n",
        "    print(cm)\r\n",
        "\r\n",
        "    plt.imshow(cm, interpolation=\"nearest\", cmap=cmap)\r\n",
        "    plt.title(title)\r\n",
        "    plt.colorbar()\r\n",
        "    tick_marks = np.arange(len(classes))\r\n",
        "    plt.xticks(tick_marks, classes, rotation=45)\r\n",
        "    plt.yticks(tick_marks, classes)\r\n",
        "\r\n",
        "    fmt = \".2f\" if normalize else \"d\"\r\n",
        "    thresh = cm.max() / 2.\r\n",
        "    for i, j in itertools.product(range(cm.shape[0]), range(cm.shape[1])):\r\n",
        "        plt.text(j, i, format(cm[i, j], fmt), \r\n",
        "                 horizontalalignment=\"center\", \r\n",
        "                 color=\"white\" if cm[i, j] > thresh else \"black\")\r\n",
        "        \r\n",
        "    plt.tight_layout()\r\n",
        "    plt.ylabel(\"True label\")\r\n",
        "    plt.xlabel(\"predicted label\")\r\n",
        "    plt.show()\r\n",
        "\r\n",
        "p_test = model.predict(x_test).argmax(axis=1)\r\n",
        "cm = confusion_matrix(y_test, p_test)\r\n",
        "plot_confusion_matrix(cm, list(range(10)))"
      ],
      "execution_count": 20,
      "outputs": [
        {
          "output_type": "stream",
          "text": [
            "Confusion matrix, without normalization\n",
            "[[ 973    0    0    1    0    0    1    1    3    1]\n",
            " [   0 1126    3    1    0    1    1    1    2    0]\n",
            " [   5    2 1009    1    3    0    1    6    5    0]\n",
            " [   1    1    3  993    0    4    0    4    4    0]\n",
            " [   2    1    3    0  967    0    3    0    1    5]\n",
            " [   2    0    0    8    2  873    2    1    3    1]\n",
            " [   3    3    0    1    4    4  942    0    1    0]\n",
            " [   2    7    9    2    2    0    0 1003    1    2]\n",
            " [   5    1    2    2    4    9    1    3  942    5]\n",
            " [   0    3    0    5    7    2    1    7    2  982]]\n"
          ],
          "name": "stdout"
        },
        {
          "output_type": "display_data",
          "data": {
            "image/png": "[encoded data removed]",
            "text/plain": [
              "<Figure size 432x288 with 2 Axes>"
            ]
          },
          "metadata": {
            "tags": [],
            "needs_background": "light"
          }
        }
      ]
    },
    {
      "cell_type": "code",
      "metadata": {
        "colab": {
          "base_uri": "https://localhost:8080/",
          "height": 281
        },
        "id": "IqjXT6Z0B-qN",
        "outputId": "11454328-4c80-439a-8a6c-249dfe218530"
      },
      "source": [
        "misclassified_idx = np.where(p_test != y_test)[0]\r\n",
        "i = np.random.choice(misclassified_idx)\r\n",
        "plt.imshow(x_test[i], cmap=\"gray\")\r\n",
        "plt.title(\"True label: %s Predicted: %s\" % (y_test[i], p_test[i]))\r\n",
        "plt.show()"
      ],
      "execution_count": 22,
      "outputs": [
        {
          "output_type": "display_data",
          "data": {
            "image/png": "[encoded data removed]",
            "text/plain": [
              "<Figure size 432x288 with 1 Axes>"
            ]
          },
          "metadata": {
            "tags": [],
            "needs_background": "light"
          }
        }
      ]
    },
    {
      "cell_type": "code",
      "metadata": {
        "id": "MouJZm7pClE2"
      },
      "source": [
        ""
      ],
      "execution_count": null,
      "outputs": []
    }
  ]
}