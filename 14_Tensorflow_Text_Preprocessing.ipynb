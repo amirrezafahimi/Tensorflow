{
  "nbformat": 4,
  "nbformat_minor": 0,
  "metadata": {
    "colab": {
      "name": "14 - Tensorflow Text Preprocessing.ipynb",
      "provenance": []
    },
    "kernelspec": {
      "name": "python3",
      "display_name": "Python 3"
    }
  },
  "cells": [
    {
      "cell_type": "code",
      "metadata": {
        "colab": {
          "base_uri": "https://localhost:8080/"
        },
        "id": "RVSWFMB2QrN5",
        "outputId": "ed6806c4-fd02-4b78-b23c-ce3eec61a1cb"
      },
      "source": [
        "import tensorflow as tf\r\n",
        "print(tf.__version__)"
      ],
      "execution_count": 1,
      "outputs": [
        {
          "output_type": "stream",
          "text": [
            "2.4.0\n"
          ],
          "name": "stdout"
        }
      ]
    },
    {
      "cell_type": "code",
      "metadata": {
        "id": "nnI7O-BMQwCc"
      },
      "source": [
        "from tensorflow.keras.preprocessing.text import Tokenizer\r\n",
        "from tensorflow.keras.preprocessing.sequence import pad_sequences"
      ],
      "execution_count": 2,
      "outputs": []
    },
    {
      "cell_type": "code",
      "metadata": {
        "id": "g2q8dU4kRSvy"
      },
      "source": [
        "sentences = [\r\n",
        "    \"I like eggs and ham.\", \r\n",
        "    \"I love chocolate and bunnies.\", \r\n",
        "    \"I hate onions.\"\r\n",
        "]"
      ],
      "execution_count": 3,
      "outputs": []
    },
    {
      "cell_type": "code",
      "metadata": {
        "id": "o8CMN3foRgJm"
      },
      "source": [
        "MAX_VOCAB_SIZE = 20000\r\n",
        "tokenizer = Tokenizer(num_words=MAX_VOCAB_SIZE)\r\n",
        "tokenizer.fit_on_texts(sentences)\r\n",
        "sequences = tokenizer.texts_to_sequences(sentences)"
      ],
      "execution_count": 7,
      "outputs": []
    },
    {
      "cell_type": "code",
      "metadata": {
        "colab": {
          "base_uri": "https://localhost:8080/"
        },
        "id": "tNs269gdSnV9",
        "outputId": "40c4308b-2880-4492-b7be-682c1661ca1d"
      },
      "source": [
        "print(sequences)"
      ],
      "execution_count": 9,
      "outputs": [
        {
          "output_type": "stream",
          "text": [
            "[[1, 3, 4, 2, 5], [1, 6, 7, 2, 8], [1, 9, 10]]\n"
          ],
          "name": "stdout"
        }
      ]
    },
    {
      "cell_type": "code",
      "metadata": {
        "colab": {
          "base_uri": "https://localhost:8080/"
        },
        "id": "z9470M00SoJ_",
        "outputId": "52ddf942-8a84-4828-e4a0-5a47621a1969"
      },
      "source": [
        "tokenizer.word_index"
      ],
      "execution_count": 10,
      "outputs": [
        {
          "output_type": "execute_result",
          "data": {
            "text/plain": [
              "{'and': 2,\n",
              " 'bunnies': 8,\n",
              " 'chocolate': 7,\n",
              " 'eggs': 4,\n",
              " 'ham': 5,\n",
              " 'hate': 9,\n",
              " 'i': 1,\n",
              " 'like': 3,\n",
              " 'love': 6,\n",
              " 'onions': 10}"
            ]
          },
          "metadata": {
            "tags": []
          },
          "execution_count": 10
        }
      ]
    },
    {
      "cell_type": "code",
      "metadata": {
        "colab": {
          "base_uri": "https://localhost:8080/"
        },
        "id": "et80eZRNTFfL",
        "outputId": "1e1a0cfa-a8a5-40c8-fac9-f1ebae51ef92"
      },
      "source": [
        "data = pad_sequences(sequences=sequences)\r\n",
        "print(data)"
      ],
      "execution_count": 11,
      "outputs": [
        {
          "output_type": "stream",
          "text": [
            "[[ 1  3  4  2  5]\n",
            " [ 1  6  7  2  8]\n",
            " [ 0  0  1  9 10]]\n"
          ],
          "name": "stdout"
        }
      ]
    },
    {
      "cell_type": "code",
      "metadata": {
        "colab": {
          "base_uri": "https://localhost:8080/"
        },
        "id": "iKPr-eaDTdyP",
        "outputId": "d8f940b0-a407-4fdd-80b8-70436d3caf39"
      },
      "source": [
        "MAX_SEQUENCE_LENGTH = 5\r\n",
        "data = pad_sequences(sequences)\r\n",
        "print(data)"
      ],
      "execution_count": 12,
      "outputs": [
        {
          "output_type": "stream",
          "text": [
            "[[ 1  3  4  2  5]\n",
            " [ 1  6  7  2  8]\n",
            " [ 0  0  1  9 10]]\n"
          ],
          "name": "stdout"
        }
      ]
    },
    {
      "cell_type": "code",
      "metadata": {
        "colab": {
          "base_uri": "https://localhost:8080/"
        },
        "id": "oO2xBwVVTpkY",
        "outputId": "853599f5-f800-4707-9c0b-cbd82e26b347"
      },
      "source": [
        "data = pad_sequences(sequences, padding=\"post\")\r\n",
        "print(data)"
      ],
      "execution_count": 13,
      "outputs": [
        {
          "output_type": "stream",
          "text": [
            "[[ 1  3  4  2  5]\n",
            " [ 1  6  7  2  8]\n",
            " [ 1  9 10  0  0]]\n"
          ],
          "name": "stdout"
        }
      ]
    },
    {
      "cell_type": "code",
      "metadata": {
        "colab": {
          "base_uri": "https://localhost:8080/"
        },
        "id": "8Eg9OoTOTydz",
        "outputId": "950577b3-2075-4b80-b3e2-fc2bfd614b96"
      },
      "source": [
        "data = pad_sequences(sequences, maxlen=6)\r\n",
        "print(data)"
      ],
      "execution_count": 16,
      "outputs": [
        {
          "output_type": "stream",
          "text": [
            "[[ 0  1  3  4  2  5]\n",
            " [ 0  1  6  7  2  8]\n",
            " [ 0  0  0  1  9 10]]\n"
          ],
          "name": "stdout"
        }
      ]
    },
    {
      "cell_type": "code",
      "metadata": {
        "colab": {
          "base_uri": "https://localhost:8080/"
        },
        "id": "susnQ0mmUBe-",
        "outputId": "a817174f-bf8a-4911-c95b-ac764aeb2166"
      },
      "source": [
        "data = pad_sequences(sequences, maxlen=4)\r\n",
        "print(data)"
      ],
      "execution_count": 17,
      "outputs": [
        {
          "output_type": "stream",
          "text": [
            "[[ 3  4  2  5]\n",
            " [ 6  7  2  8]\n",
            " [ 0  1  9 10]]\n"
          ],
          "name": "stdout"
        }
      ]
    },
    {
      "cell_type": "code",
      "metadata": {
        "colab": {
          "base_uri": "https://localhost:8080/"
        },
        "id": "e9REjLidUTW8",
        "outputId": "790b62d4-9717-4d89-ea1d-b9780b39004d"
      },
      "source": [
        "data = pad_sequences(sequences, maxlen=4, truncating=\"post\")\r\n",
        "print(data)"
      ],
      "execution_count": 19,
      "outputs": [
        {
          "output_type": "stream",
          "text": [
            "[[ 1  3  4  2]\n",
            " [ 1  6  7  2]\n",
            " [ 0  1  9 10]]\n"
          ],
          "name": "stdout"
        }
      ]
    },
    {
      "cell_type": "code",
      "metadata": {
        "id": "5ri3_v_dUgOy"
      },
      "source": [
        ""
      ],
      "execution_count": null,
      "outputs": []
    }
  ]
}