{
  "nbformat": 4,
  "nbformat_minor": 0,
  "metadata": {
    "colab": {
      "name": "17 - Tensorflow Recommender System.ipynb",
      "provenance": []
    },
    "kernelspec": {
      "name": "python3",
      "display_name": "Python 3"
    },
    "accelerator": "GPU"
  },
  "cells": [
    {
      "cell_type": "code",
      "metadata": {
        "colab": {
          "base_uri": "https://localhost:8080/"
        },
        "id": "GapeGIrLDttD",
        "outputId": "8a97217b-1873-4b72-d6dd-6864a651cafd"
      },
      "source": [
        "import tensorflow as tf\r\n",
        "print(tf.__version__)"
      ],
      "execution_count": 1,
      "outputs": [
        {
          "output_type": "stream",
          "text": [
            "2.4.0\n"
          ],
          "name": "stdout"
        }
      ]
    },
    {
      "cell_type": "code",
      "metadata": {
        "id": "DVcacYSqD0wL"
      },
      "source": [
        "import numpy as np\r\n",
        "import pandas as pd\r\n",
        "import matplotlib.pyplot as plt\r\n",
        "\r\n",
        "from sklearn.utils import shuffle\r\n",
        "\r\n",
        "from tensorflow.keras.models import Model\r\n",
        "from tensorflow.keras.layers import Input, Embedding, Concatenate\r\n",
        "from tensorflow.keras.layers import Dense, Flatten\r\n",
        "from tensorflow.keras.optimizers import Adam, SGD"
      ],
      "execution_count": 2,
      "outputs": []
    },
    {
      "cell_type": "code",
      "metadata": {
        "colab": {
          "base_uri": "https://localhost:8080/"
        },
        "id": "uSPLdGA9EaEb",
        "outputId": "6755cb09-c941-4cec-a086-bf8472891d7f"
      },
      "source": [
        "!wget -nc http://files.grouplens.org/datasets/movielens/ml-20m.zip"
      ],
      "execution_count": 3,
      "outputs": [
        {
          "output_type": "stream",
          "text": [
            "--2021-01-20 07:11:30--  http://files.grouplens.org/datasets/movielens/ml-20m.zip\n",
            "Resolving files.grouplens.org (files.grouplens.org)... 128.101.65.152\n",
            "Connecting to files.grouplens.org (files.grouplens.org)|128.101.65.152|:80... connected.\n",
            "HTTP request sent, awaiting response... 200 OK\n",
            "Length: 198702078 (189M) [application/zip]\n",
            "Saving to: ‘ml-20m.zip’\n",
            "\n",
            "ml-20m.zip          100%[===================>] 189.50M   102MB/s    in 1.9s    \n",
            "\n",
            "2021-01-20 07:11:32 (102 MB/s) - ‘ml-20m.zip’ saved [198702078/198702078]\n",
            "\n"
          ],
          "name": "stdout"
        }
      ]
    },
    {
      "cell_type": "code",
      "metadata": {
        "colab": {
          "base_uri": "https://localhost:8080/"
        },
        "id": "BHVJAmEpEinm",
        "outputId": "040fce85-7329-4ade-99f0-fd54343261be"
      },
      "source": [
        "!unzip -n ml-20m.zip"
      ],
      "execution_count": 4,
      "outputs": [
        {
          "output_type": "stream",
          "text": [
            "Archive:  ml-20m.zip\n",
            "   creating: ml-20m/\n",
            "  inflating: ml-20m/genome-scores.csv  \n",
            "  inflating: ml-20m/genome-tags.csv  \n",
            "  inflating: ml-20m/links.csv        \n",
            "  inflating: ml-20m/movies.csv       \n",
            "  inflating: ml-20m/ratings.csv      \n",
            "  inflating: ml-20m/README.txt       \n",
            "  inflating: ml-20m/tags.csv         \n"
          ],
          "name": "stdout"
        }
      ]
    },
    {
      "cell_type": "code",
      "metadata": {
        "colab": {
          "base_uri": "https://localhost:8080/"
        },
        "id": "tL_l70cBExOi",
        "outputId": "e26f708c-ee49-48bf-f2ef-dcd1513ba794"
      },
      "source": [
        "!ls"
      ],
      "execution_count": 5,
      "outputs": [
        {
          "output_type": "stream",
          "text": [
            "ml-20m\tml-20m.zip  sample_data\n"
          ],
          "name": "stdout"
        }
      ]
    },
    {
      "cell_type": "code",
      "metadata": {
        "id": "xHuHOX7VE1pH"
      },
      "source": [
        "df = pd.read_csv(\"ml-20m/ratings.csv\")"
      ],
      "execution_count": 6,
      "outputs": []
    },
    {
      "cell_type": "code",
      "metadata": {
        "colab": {
          "base_uri": "https://localhost:8080/",
          "height": 204
        },
        "id": "1bcHA3G3E7Kl",
        "outputId": "eddf0da2-5912-46e9-e856-e16258e41a33"
      },
      "source": [
        "df.head()"
      ],
      "execution_count": 7,
      "outputs": [
        {
          "output_type": "execute_result",
          "data": {
            "text/html": [
              "<div>\n",
              "<style scoped>\n",
              "    .dataframe tbody tr th:only-of-type {\n",
              "        vertical-align: middle;\n",
              "    }\n",
              "\n",
              "    .dataframe tbody tr th {\n",
              "        vertical-align: top;\n",
              "    }\n",
              "\n",
              "    .dataframe thead th {\n",
              "        text-align: right;\n",
              "    }\n",
              "</style>\n",
              "<table border=\"1\" class=\"dataframe\">\n",
              "  <thead>\n",
              "    <tr style=\"text-align: right;\">\n",
              "      <th></th>\n",
              "      <th>userId</th>\n",
              "      <th>movieId</th>\n",
              "      <th>rating</th>\n",
              "      <th>timestamp</th>\n",
              "    </tr>\n",
              "  </thead>\n",
              "  <tbody>\n",
              "    <tr>\n",
              "      <th>0</th>\n",
              "      <td>1</td>\n",
              "      <td>2</td>\n",
              "      <td>3.5</td>\n",
              "      <td>1112486027</td>\n",
              "    </tr>\n",
              "    <tr>\n",
              "      <th>1</th>\n",
              "      <td>1</td>\n",
              "      <td>29</td>\n",
              "      <td>3.5</td>\n",
              "      <td>1112484676</td>\n",
              "    </tr>\n",
              "    <tr>\n",
              "      <th>2</th>\n",
              "      <td>1</td>\n",
              "      <td>32</td>\n",
              "      <td>3.5</td>\n",
              "      <td>1112484819</td>\n",
              "    </tr>\n",
              "    <tr>\n",
              "      <th>3</th>\n",
              "      <td>1</td>\n",
              "      <td>47</td>\n",
              "      <td>3.5</td>\n",
              "      <td>1112484727</td>\n",
              "    </tr>\n",
              "    <tr>\n",
              "      <th>4</th>\n",
              "      <td>1</td>\n",
              "      <td>50</td>\n",
              "      <td>3.5</td>\n",
              "      <td>1112484580</td>\n",
              "    </tr>\n",
              "  </tbody>\n",
              "</table>\n",
              "</div>"
            ],
            "text/plain": [
              "   userId  movieId  rating   timestamp\n",
              "0       1        2     3.5  1112486027\n",
              "1       1       29     3.5  1112484676\n",
              "2       1       32     3.5  1112484819\n",
              "3       1       47     3.5  1112484727\n",
              "4       1       50     3.5  1112484580"
            ]
          },
          "metadata": {
            "tags": []
          },
          "execution_count": 7
        }
      ]
    },
    {
      "cell_type": "code",
      "metadata": {
        "colab": {
          "base_uri": "https://localhost:8080/"
        },
        "id": "7BW6pkQeE74B",
        "outputId": "ba6f871d-3294-4342-e16f-a5241f4315be"
      },
      "source": [
        "df.info()"
      ],
      "execution_count": 8,
      "outputs": [
        {
          "output_type": "stream",
          "text": [
            "<class 'pandas.core.frame.DataFrame'>\n",
            "RangeIndex: 20000263 entries, 0 to 20000262\n",
            "Data columns (total 4 columns):\n",
            " #   Column     Dtype  \n",
            "---  ------     -----  \n",
            " 0   userId     int64  \n",
            " 1   movieId    int64  \n",
            " 2   rating     float64\n",
            " 3   timestamp  int64  \n",
            "dtypes: float64(1), int64(3)\n",
            "memory usage: 610.4 MB\n"
          ],
          "name": "stdout"
        }
      ]
    },
    {
      "cell_type": "code",
      "metadata": {
        "id": "d6QVqDOoFz0c"
      },
      "source": [
        "df.userId = pd.Categorical(df.userId)"
      ],
      "execution_count": 9,
      "outputs": []
    },
    {
      "cell_type": "code",
      "metadata": {
        "id": "WbzHaYl-F2IF"
      },
      "source": [
        "df[\"new_user_id\"] = df.userId.cat.codes"
      ],
      "execution_count": 10,
      "outputs": []
    },
    {
      "cell_type": "code",
      "metadata": {
        "colab": {
          "base_uri": "https://localhost:8080/"
        },
        "id": "RZyMNF2PGNN1",
        "outputId": "4340dc61-5cd3-47b1-a63f-e01f64ea1e58"
      },
      "source": [
        "df.info()"
      ],
      "execution_count": 11,
      "outputs": [
        {
          "output_type": "stream",
          "text": [
            "<class 'pandas.core.frame.DataFrame'>\n",
            "RangeIndex: 20000263 entries, 0 to 20000262\n",
            "Data columns (total 5 columns):\n",
            " #   Column       Dtype   \n",
            "---  ------       -----   \n",
            " 0   userId       category\n",
            " 1   movieId      int64   \n",
            " 2   rating       float64 \n",
            " 3   timestamp    int64   \n",
            " 4   new_user_id  int32   \n",
            "dtypes: category(1), float64(1), int32(1), int64(2)\n",
            "memory usage: 616.4 MB\n"
          ],
          "name": "stdout"
        }
      ]
    },
    {
      "cell_type": "code",
      "metadata": {
        "id": "jKyu9_lgGOHE"
      },
      "source": [
        "df.movieId = pd.Categorical(df.movieId)\r\n",
        "df[\"new_movie_id\"] = df.movieId.cat.codes"
      ],
      "execution_count": 12,
      "outputs": []
    },
    {
      "cell_type": "code",
      "metadata": {
        "id": "wjtjVAh-GY40"
      },
      "source": [
        "user_ids = df.new_user_id.values\r\n",
        "movie_ids = df.new_movie_id.values\r\n",
        "ratings = df.rating.values"
      ],
      "execution_count": 13,
      "outputs": []
    },
    {
      "cell_type": "code",
      "metadata": {
        "id": "HzgbqsLMGkPV"
      },
      "source": [
        "N = len(set(user_ids))\r\n",
        "M = len(set(movie_ids))\r\n",
        "\r\n",
        "K = 10"
      ],
      "execution_count": 14,
      "outputs": []
    },
    {
      "cell_type": "code",
      "metadata": {
        "colab": {
          "base_uri": "https://localhost:8080/"
        },
        "id": "XBA0i_-JGtPS",
        "outputId": "3cc7ec0d-de45-46e1-9b6c-04a2effa9a88"
      },
      "source": [
        "u = Input(shape=(1,))\r\n",
        "m = Input(shape=(1,))\r\n",
        "\r\n",
        "u_emb = Embedding(input_dim=N, output_dim=K)(u)\r\n",
        "m_emb = Embedding(input_dim=M, output_dim=K)(m)\r\n",
        "\r\n",
        "u_emb = Flatten()(u_emb)\r\n",
        "m_emb = Flatten()(m_emb)\r\n",
        "\r\n",
        "x = Concatenate()([u_emb, m_emb])\r\n",
        "\r\n",
        "x = Dense(units=1024, activation=tf.keras.activations.relu)(x)\r\n",
        "x = Dense(units=400, activation=tf.keras.activations.relu)(x)\r\n",
        "x = Dense(units=400, activation=tf.keras.activations.relu)(x)\r\n",
        "x = Dense(units=1)(x)\r\n",
        "\r\n",
        "model = Model(inputs=[u, m], outputs=[x])\r\n",
        "model.compile(optimizer=SGD(lr=0.08, momentum=0.9), \r\n",
        "              loss=tf.keras.losses.mean_squared_error)\r\n",
        "\r\n",
        "model.summary()"
      ],
      "execution_count": 15,
      "outputs": [
        {
          "output_type": "stream",
          "text": [
            "Model: \"model\"\n",
            "__________________________________________________________________________________________________\n",
            "Layer (type)                    Output Shape         Param #     Connected to                     \n",
            "==================================================================================================\n",
            "input_1 (InputLayer)            [(None, 1)]          0                                            \n",
            "__________________________________________________________________________________________________\n",
            "input_2 (InputLayer)            [(None, 1)]          0                                            \n",
            "__________________________________________________________________________________________________\n",
            "embedding (Embedding)           (None, 1, 10)        1384930     input_1[0][0]                    \n",
            "__________________________________________________________________________________________________\n",
            "embedding_1 (Embedding)         (None, 1, 10)        267440      input_2[0][0]                    \n",
            "__________________________________________________________________________________________________\n",
            "flatten (Flatten)               (None, 10)           0           embedding[0][0]                  \n",
            "__________________________________________________________________________________________________\n",
            "flatten_1 (Flatten)             (None, 10)           0           embedding_1[0][0]                \n",
            "__________________________________________________________________________________________________\n",
            "concatenate (Concatenate)       (None, 20)           0           flatten[0][0]                    \n",
            "                                                                 flatten_1[0][0]                  \n",
            "__________________________________________________________________________________________________\n",
            "dense (Dense)                   (None, 1024)         21504       concatenate[0][0]                \n",
            "__________________________________________________________________________________________________\n",
            "dense_1 (Dense)                 (None, 400)          410000      dense[0][0]                      \n",
            "__________________________________________________________________________________________________\n",
            "dense_2 (Dense)                 (None, 400)          160400      dense_1[0][0]                    \n",
            "__________________________________________________________________________________________________\n",
            "dense_3 (Dense)                 (None, 1)            401         dense_2[0][0]                    \n",
            "==================================================================================================\n",
            "Total params: 2,244,675\n",
            "Trainable params: 2,244,675\n",
            "Non-trainable params: 0\n",
            "__________________________________________________________________________________________________\n"
          ],
          "name": "stdout"
        }
      ]
    },
    {
      "cell_type": "code",
      "metadata": {
        "id": "4U7lL0xZIT5Z"
      },
      "source": [
        "user_ids, movie_ids, ratings = shuffle(user_ids, movie_ids, ratings)\r\n",
        "Ntrain = int(0.8 * len(ratings))\r\n",
        "\r\n",
        "train_user = user_ids[:Ntrain]\r\n",
        "train_movie = movie_ids[:Ntrain]\r\n",
        "train_ratings = ratings[:Ntrain]\r\n",
        "\r\n",
        "test_user = user_ids[Ntrain:]\r\n",
        "test_movie = movie_ids[Ntrain:]\r\n",
        "test_ratings = ratings[Ntrain:]\r\n",
        "\r\n",
        "avg_ratings = train_ratings.mean()\r\n",
        "train_ratings = train_ratings - avg_ratings\r\n",
        "test_ratings = test_ratings - avg_ratings"
      ],
      "execution_count": 16,
      "outputs": []
    },
    {
      "cell_type": "code",
      "metadata": {
        "colab": {
          "base_uri": "https://localhost:8080/"
        },
        "id": "3cUNkXnBJjth",
        "outputId": "abe2683b-5763-4bfb-ef11-bd69f1271bab"
      },
      "source": [
        "r = model.fit(x=[train_user, train_movie], \r\n",
        "              y=train_ratings, \r\n",
        "              epochs=25, \r\n",
        "              batch_size=1024, \r\n",
        "              validation_data=([test_user, test_movie], test_ratings), \r\n",
        "              verbose=2)"
      ],
      "execution_count": 17,
      "outputs": [
        {
          "output_type": "stream",
          "text": [
            "Epoch 1/25\n",
            "15626/15626 - 63s - loss: 0.7827 - val_loss: 0.7264\n",
            "Epoch 2/25\n",
            "15626/15626 - 60s - loss: 0.7041 - val_loss: 0.6995\n",
            "Epoch 3/25\n",
            "15626/15626 - 60s - loss: 0.6828 - val_loss: 0.6900\n",
            "Epoch 4/25\n",
            "15626/15626 - 59s - loss: 0.6670 - val_loss: 0.6809\n",
            "Epoch 5/25\n",
            "15626/15626 - 59s - loss: 0.6558 - val_loss: 0.6742\n",
            "Epoch 6/25\n",
            "15626/15626 - 59s - loss: 0.6457 - val_loss: 0.6653\n",
            "Epoch 7/25\n",
            "15626/15626 - 59s - loss: 0.6345 - val_loss: 0.6610\n",
            "Epoch 8/25\n",
            "15626/15626 - 58s - loss: 0.6220 - val_loss: 0.6564\n",
            "Epoch 9/25\n",
            "15626/15626 - 58s - loss: 0.6078 - val_loss: 0.6458\n",
            "Epoch 10/25\n",
            "15626/15626 - 59s - loss: 0.5974 - val_loss: 0.6408\n",
            "Epoch 11/25\n",
            "15626/15626 - 59s - loss: 0.5887 - val_loss: 0.6391\n",
            "Epoch 12/25\n",
            "15626/15626 - 58s - loss: 0.5804 - val_loss: 0.6383\n",
            "Epoch 13/25\n",
            "15626/15626 - 59s - loss: 0.5724 - val_loss: 0.6354\n",
            "Epoch 14/25\n",
            "15626/15626 - 59s - loss: 0.5649 - val_loss: 0.6340\n",
            "Epoch 15/25\n",
            "15626/15626 - 59s - loss: 0.5585 - val_loss: 0.6337\n",
            "Epoch 16/25\n",
            "15626/15626 - 59s - loss: 0.5528 - val_loss: 0.6312\n",
            "Epoch 17/25\n",
            "15626/15626 - 59s - loss: 0.5479 - val_loss: 0.6392\n",
            "Epoch 18/25\n",
            "15626/15626 - 59s - loss: 0.5436 - val_loss: 0.6363\n",
            "Epoch 19/25\n",
            "15626/15626 - 59s - loss: 0.5398 - val_loss: 0.6392\n",
            "Epoch 20/25\n",
            "15626/15626 - 60s - loss: 0.5362 - val_loss: 0.6368\n",
            "Epoch 21/25\n",
            "15626/15626 - 60s - loss: 0.5331 - val_loss: 0.6390\n",
            "Epoch 22/25\n",
            "15626/15626 - 59s - loss: 0.5300 - val_loss: 0.6439\n",
            "Epoch 23/25\n",
            "15626/15626 - 59s - loss: 0.5272 - val_loss: 0.6478\n",
            "Epoch 24/25\n",
            "15626/15626 - 59s - loss: 0.5248 - val_loss: 0.6415\n",
            "Epoch 25/25\n",
            "15626/15626 - 59s - loss: 0.5221 - val_loss: 0.6440\n"
          ],
          "name": "stdout"
        }
      ]
    },
    {
      "cell_type": "code",
      "metadata": {
        "id": "km9HxEL2J8d8",
        "colab": {
          "base_uri": "https://localhost:8080/",
          "height": 265
        },
        "outputId": "b4bca325-a5c4-4013-8277-01d8d60d5229"
      },
      "source": [
        "plt.plot(r.history[\"loss\"], label=\"loss\")\r\n",
        "plt.plot(r.history[\"val_loss\"], label=\"val_loss\")\r\n",
        "plt.legend()\r\n",
        "plt.show()"
      ],
      "execution_count": 18,
      "outputs": [
        {
          "output_type": "display_data",
          "data": {
            "image/png": "[encoded data removed]",
            "text/plain": [
              "<Figure size 432x288 with 1 Axes>"
            ]
          },
          "metadata": {
            "tags": [],
            "needs_background": "light"
          }
        }
      ]
    },
    {
      "cell_type": "code",
      "metadata": {
        "id": "EGmggQ3vKI4T"
      },
      "source": [
        ""
      ],
      "execution_count": null,
      "outputs": []
    }
  ]
}