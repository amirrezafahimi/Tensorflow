{
  "nbformat": 4,
  "nbformat_minor": 0,
  "metadata": {
    "colab": {
      "name": "02 - Tensorflow Linear Regression.ipynb",
      "provenance": []
    },
    "kernelspec": {
      "name": "python3",
      "display_name": "Python 3"
    },
    "accelerator": "GPU"
  },
  "cells": [
    {
      "cell_type": "code",
      "metadata": {
        "colab": {
          "base_uri": "https://localhost:8080/"
        },
        "id": "1iwhw--_zBoB",
        "outputId": "b4103164-a77c-450e-da36-cb39bf9c8872"
      },
      "source": [
        "import tensorflow as tf\r\n",
        "print(tf.__version__)"
      ],
      "execution_count": 1,
      "outputs": [
        {
          "output_type": "stream",
          "text": [
            "2.4.0\n"
          ],
          "name": "stdout"
        }
      ]
    },
    {
      "cell_type": "code",
      "metadata": {
        "id": "JjRZlKGGzOFc"
      },
      "source": [
        "import numpy as np\r\n",
        "import pandas as pd\r\n",
        "import matplotlib.pyplot as plt\r\n",
        "\r\n",
        "%matplotlib inline"
      ],
      "execution_count": 2,
      "outputs": []
    },
    {
      "cell_type": "code",
      "metadata": {
        "colab": {
          "base_uri": "https://localhost:8080/"
        },
        "id": "tXDauHQTzb_H",
        "outputId": "310ee41f-8ecf-425a-b574-0084cf303c79"
      },
      "source": [
        "!wget https://raw.githubusercontent.com/lazyprogrammer/machine_learning_examples/master/tf2.0/moore.csv"
      ],
      "execution_count": 5,
      "outputs": [
        {
          "output_type": "stream",
          "text": [
            "--2021-01-05 09:09:46--  https://raw.githubusercontent.com/lazyprogrammer/machine_learning_examples/master/tf2.0/moore.csv\n",
            "Resolving raw.githubusercontent.com (raw.githubusercontent.com)... 151.101.0.133, 151.101.64.133, 151.101.128.133, ...\n",
            "Connecting to raw.githubusercontent.com (raw.githubusercontent.com)|151.101.0.133|:443... connected.\n",
            "HTTP request sent, awaiting response... 200 OK\n",
            "Length: 2302 (2.2K) [text/plain]\n",
            "Saving to: ‘moore.csv’\n",
            "\n",
            "moore.csv           100%[===================>]   2.25K  --.-KB/s    in 0s      \n",
            "\n",
            "2021-01-05 09:09:46 (55.2 MB/s) - ‘moore.csv’ saved [2302/2302]\n",
            "\n"
          ],
          "name": "stdout"
        }
      ]
    },
    {
      "cell_type": "code",
      "metadata": {
        "id": "ioZroTPyzpb7"
      },
      "source": [
        "data = pd.read_csv(\"moore.csv\", header=None).values\r\n",
        "\r\n",
        "X = data[:, 0].reshape(-1, 1)\r\n",
        "Y = data[:, 1]"
      ],
      "execution_count": 6,
      "outputs": []
    },
    {
      "cell_type": "code",
      "metadata": {
        "colab": {
          "base_uri": "https://localhost:8080/",
          "height": 276
        },
        "id": "6eLVLLO_0S_r",
        "outputId": "b3008fc1-fb16-4536-e9b7-da7c36a15491"
      },
      "source": [
        "plt.scatter(X, Y)\r\n",
        "plt.show()"
      ],
      "execution_count": 7,
      "outputs": [
        {
          "output_type": "display_data",
          "data": {
            "image/png": "[encoded data removed]",
            "text/plain": [
              "<Figure size 432x288 with 1 Axes>"
            ]
          },
          "metadata": {
            "tags": [],
            "needs_background": "light"
          }
        }
      ]
    },
    {
      "cell_type": "code",
      "metadata": {
        "colab": {
          "base_uri": "https://localhost:8080/",
          "height": 265
        },
        "id": "hVHNKfIg0Zgp",
        "outputId": "62a07864-767f-42df-df28-7bd6694f3cec"
      },
      "source": [
        "Y = np.log(Y)\r\n",
        "plt.scatter(X, Y)\r\n",
        "plt.show()"
      ],
      "execution_count": 8,
      "outputs": [
        {
          "output_type": "display_data",
          "data": {
            "image/png": "[encoded data removed]",
            "text/plain": [
              "<Figure size 432x288 with 1 Axes>"
            ]
          },
          "metadata": {
            "tags": [],
            "needs_background": "light"
          }
        }
      ]
    },
    {
      "cell_type": "code",
      "metadata": {
        "id": "3fRXVOFE0i7V"
      },
      "source": [
        "X = X - X.mean()"
      ],
      "execution_count": 9,
      "outputs": []
    },
    {
      "cell_type": "code",
      "metadata": {
        "colab": {
          "base_uri": "https://localhost:8080/"
        },
        "id": "LYAnCSyR0yhr",
        "outputId": "74728073-41a9-4957-de67-5fea7e020d7a"
      },
      "source": [
        "model = tf.keras.Sequential([\r\n",
        "                             tf.keras.layers.Input(shape=(1,)), \r\n",
        "                             tf.keras.layers.Dense(units=1)\r\n",
        "])\r\n",
        "\r\n",
        "model.compile(optimizer=tf.keras.optimizers.SGD(learning_rate=0.001, momentum=0.9), \r\n",
        "              loss=tf.keras.losses.mean_squared_error)\r\n",
        "\r\n",
        "def schedule(epoch, lr):\r\n",
        "    if (epoch >= 50):\r\n",
        "        return 0.0001\r\n",
        "    return 0.001\r\n",
        "\r\n",
        "schedular = tf.keras.callbacks.LearningRateScheduler(schedule)\r\n",
        "\r\n",
        "r = model.fit(x=X, y=Y, \r\n",
        "              epochs=200, callbacks=[schedular])"
      ],
      "execution_count": 10,
      "outputs": [
        {
          "output_type": "stream",
          "text": [
            "Epoch 1/200\n",
            "6/6 [==============================] - 2s 2ms/step - loss: 732.8000\n",
            "Epoch 2/200\n",
            "6/6 [==============================] - 0s 2ms/step - loss: 790.3530\n",
            "Epoch 3/200\n",
            "6/6 [==============================] - 0s 2ms/step - loss: 717.5853\n",
            "Epoch 4/200\n",
            "6/6 [==============================] - 0s 2ms/step - loss: 583.1287\n",
            "Epoch 5/200\n",
            "6/6 [==============================] - 0s 2ms/step - loss: 322.3448\n",
            "Epoch 6/200\n",
            "6/6 [==============================] - 0s 2ms/step - loss: 204.3788\n",
            "Epoch 7/200\n",
            "6/6 [==============================] - 0s 2ms/step - loss: 168.0294\n",
            "Epoch 8/200\n",
            "6/6 [==============================] - 0s 2ms/step - loss: 117.3780\n",
            "Epoch 9/200\n",
            "6/6 [==============================] - 0s 2ms/step - loss: 62.7178\n",
            "Epoch 10/200\n",
            "6/6 [==============================] - 0s 2ms/step - loss: 38.2643\n",
            "Epoch 11/200\n",
            "6/6 [==============================] - 0s 2ms/step - loss: 28.4202\n",
            "Epoch 12/200\n",
            "6/6 [==============================] - 0s 2ms/step - loss: 20.3946\n",
            "Epoch 13/200\n",
            "6/6 [==============================] - 0s 2ms/step - loss: 25.8946\n",
            "Epoch 14/200\n",
            "6/6 [==============================] - 0s 2ms/step - loss: 14.6249\n",
            "Epoch 15/200\n",
            "6/6 [==============================] - 0s 2ms/step - loss: 9.7876\n",
            "Epoch 16/200\n",
            "6/6 [==============================] - 0s 2ms/step - loss: 6.0547\n",
            "Epoch 17/200\n",
            "6/6 [==============================] - 0s 2ms/step - loss: 4.5573\n",
            "Epoch 18/200\n",
            "6/6 [==============================] - 0s 2ms/step - loss: 3.2222\n",
            "Epoch 19/200\n",
            "6/6 [==============================] - 0s 2ms/step - loss: 3.3138\n",
            "Epoch 20/200\n",
            "6/6 [==============================] - 0s 2ms/step - loss: 4.0743\n",
            "Epoch 21/200\n",
            "6/6 [==============================] - 0s 2ms/step - loss: 2.6000\n",
            "Epoch 22/200\n",
            "6/6 [==============================] - 0s 2ms/step - loss: 1.7863\n",
            "Epoch 23/200\n",
            "6/6 [==============================] - 0s 2ms/step - loss: 1.5304\n",
            "Epoch 24/200\n",
            "6/6 [==============================] - 0s 2ms/step - loss: 1.5863\n",
            "Epoch 25/200\n",
            "6/6 [==============================] - 0s 2ms/step - loss: 1.3725\n",
            "Epoch 26/200\n",
            "6/6 [==============================] - 0s 2ms/step - loss: 1.4901\n",
            "Epoch 27/200\n",
            "6/6 [==============================] - 0s 2ms/step - loss: 1.0844\n",
            "Epoch 28/200\n",
            "6/6 [==============================] - 0s 2ms/step - loss: 1.1138\n",
            "Epoch 29/200\n",
            "6/6 [==============================] - 0s 2ms/step - loss: 0.9167\n",
            "Epoch 30/200\n",
            "6/6 [==============================] - 0s 2ms/step - loss: 0.9308\n",
            "Epoch 31/200\n",
            "6/6 [==============================] - 0s 2ms/step - loss: 0.9023\n",
            "Epoch 32/200\n",
            "6/6 [==============================] - 0s 2ms/step - loss: 0.9526\n",
            "Epoch 33/200\n",
            "6/6 [==============================] - 0s 2ms/step - loss: 0.8356\n",
            "Epoch 34/200\n",
            "6/6 [==============================] - 0s 2ms/step - loss: 0.9537\n",
            "Epoch 35/200\n",
            "6/6 [==============================] - 0s 2ms/step - loss: 1.2284\n",
            "Epoch 36/200\n",
            "6/6 [==============================] - 0s 2ms/step - loss: 0.9368\n",
            "Epoch 37/200\n",
            "6/6 [==============================] - 0s 2ms/step - loss: 0.7950\n",
            "Epoch 38/200\n",
            "6/6 [==============================] - 0s 2ms/step - loss: 1.0333\n",
            "Epoch 39/200\n",
            "6/6 [==============================] - 0s 2ms/step - loss: 1.0866\n",
            "Epoch 40/200\n",
            "6/6 [==============================] - 0s 2ms/step - loss: 1.2713\n",
            "Epoch 41/200\n",
            "6/6 [==============================] - 0s 2ms/step - loss: 1.0087\n",
            "Epoch 42/200\n",
            "6/6 [==============================] - 0s 2ms/step - loss: 1.1443\n",
            "Epoch 43/200\n",
            "6/6 [==============================] - 0s 3ms/step - loss: 0.9156\n",
            "Epoch 44/200\n",
            "6/6 [==============================] - 0s 2ms/step - loss: 1.0184\n",
            "Epoch 45/200\n",
            "6/6 [==============================] - 0s 2ms/step - loss: 0.8704\n",
            "Epoch 46/200\n",
            "6/6 [==============================] - 0s 2ms/step - loss: 0.8689\n",
            "Epoch 47/200\n",
            "6/6 [==============================] - 0s 2ms/step - loss: 1.0762\n",
            "Epoch 48/200\n",
            "6/6 [==============================] - 0s 2ms/step - loss: 1.1754\n",
            "Epoch 49/200\n",
            "6/6 [==============================] - 0s 2ms/step - loss: 0.8148\n",
            "Epoch 50/200\n",
            "6/6 [==============================] - 0s 2ms/step - loss: 1.1525\n",
            "Epoch 51/200\n",
            "6/6 [==============================] - 0s 2ms/step - loss: 1.0502\n",
            "Epoch 52/200\n",
            "6/6 [==============================] - 0s 2ms/step - loss: 1.3914\n",
            "Epoch 53/200\n",
            "6/6 [==============================] - 0s 2ms/step - loss: 0.9358\n",
            "Epoch 54/200\n",
            "6/6 [==============================] - 0s 2ms/step - loss: 0.7430\n",
            "Epoch 55/200\n",
            "6/6 [==============================] - 0s 2ms/step - loss: 0.7518\n",
            "Epoch 56/200\n",
            "6/6 [==============================] - 0s 2ms/step - loss: 0.8213\n",
            "Epoch 57/200\n",
            "6/6 [==============================] - 0s 3ms/step - loss: 0.7206\n",
            "Epoch 58/200\n",
            "6/6 [==============================] - 0s 2ms/step - loss: 0.9675\n",
            "Epoch 59/200\n",
            "6/6 [==============================] - 0s 2ms/step - loss: 1.0019\n",
            "Epoch 60/200\n",
            "6/6 [==============================] - 0s 2ms/step - loss: 1.0128\n",
            "Epoch 61/200\n",
            "6/6 [==============================] - 0s 2ms/step - loss: 0.8129\n",
            "Epoch 62/200\n",
            "6/6 [==============================] - 0s 2ms/step - loss: 0.8754\n",
            "Epoch 63/200\n",
            "6/6 [==============================] - 0s 2ms/step - loss: 0.9448\n",
            "Epoch 64/200\n",
            "6/6 [==============================] - 0s 2ms/step - loss: 0.8812\n",
            "Epoch 65/200\n",
            "6/6 [==============================] - 0s 2ms/step - loss: 0.6694\n",
            "Epoch 66/200\n",
            "6/6 [==============================] - 0s 2ms/step - loss: 0.8172\n",
            "Epoch 67/200\n",
            "6/6 [==============================] - 0s 2ms/step - loss: 0.8423\n",
            "Epoch 68/200\n",
            "6/6 [==============================] - 0s 2ms/step - loss: 0.8948\n",
            "Epoch 69/200\n",
            "6/6 [==============================] - 0s 2ms/step - loss: 0.8810\n",
            "Epoch 70/200\n",
            "6/6 [==============================] - 0s 2ms/step - loss: 0.8933\n",
            "Epoch 71/200\n",
            "6/6 [==============================] - 0s 2ms/step - loss: 0.9656\n",
            "Epoch 72/200\n",
            "6/6 [==============================] - 0s 2ms/step - loss: 0.8246\n",
            "Epoch 73/200\n",
            "6/6 [==============================] - 0s 2ms/step - loss: 1.1161\n",
            "Epoch 74/200\n",
            "6/6 [==============================] - 0s 2ms/step - loss: 0.7562\n",
            "Epoch 75/200\n",
            "6/6 [==============================] - 0s 2ms/step - loss: 0.9673\n",
            "Epoch 76/200\n",
            "6/6 [==============================] - 0s 2ms/step - loss: 1.0524\n",
            "Epoch 77/200\n",
            "6/6 [==============================] - 0s 2ms/step - loss: 0.7899\n",
            "Epoch 78/200\n",
            "6/6 [==============================] - 0s 2ms/step - loss: 0.8613\n",
            "Epoch 79/200\n",
            "6/6 [==============================] - 0s 2ms/step - loss: 1.0164\n",
            "Epoch 80/200\n",
            "6/6 [==============================] - 0s 2ms/step - loss: 0.8905\n",
            "Epoch 81/200\n",
            "6/6 [==============================] - 0s 3ms/step - loss: 0.8313\n",
            "Epoch 82/200\n",
            "6/6 [==============================] - 0s 3ms/step - loss: 0.7332\n",
            "Epoch 83/200\n",
            "6/6 [==============================] - 0s 2ms/step - loss: 1.0166\n",
            "Epoch 84/200\n",
            "6/6 [==============================] - 0s 2ms/step - loss: 0.8591\n",
            "Epoch 85/200\n",
            "6/6 [==============================] - 0s 2ms/step - loss: 0.9963\n",
            "Epoch 86/200\n",
            "6/6 [==============================] - 0s 2ms/step - loss: 0.8681\n",
            "Epoch 87/200\n",
            "6/6 [==============================] - 0s 2ms/step - loss: 0.7821\n",
            "Epoch 88/200\n",
            "6/6 [==============================] - 0s 2ms/step - loss: 0.8699\n",
            "Epoch 89/200\n",
            "6/6 [==============================] - 0s 2ms/step - loss: 0.7370\n",
            "Epoch 90/200\n",
            "6/6 [==============================] - 0s 2ms/step - loss: 0.7370\n",
            "Epoch 91/200\n",
            "6/6 [==============================] - 0s 2ms/step - loss: 0.9162\n",
            "Epoch 92/200\n",
            "6/6 [==============================] - 0s 2ms/step - loss: 0.6585\n",
            "Epoch 93/200\n",
            "6/6 [==============================] - 0s 2ms/step - loss: 0.7953\n",
            "Epoch 94/200\n",
            "6/6 [==============================] - 0s 2ms/step - loss: 0.7171\n",
            "Epoch 95/200\n",
            "6/6 [==============================] - 0s 2ms/step - loss: 0.8073\n",
            "Epoch 96/200\n",
            "6/6 [==============================] - 0s 2ms/step - loss: 0.9724\n",
            "Epoch 97/200\n",
            "6/6 [==============================] - 0s 2ms/step - loss: 0.7497\n",
            "Epoch 98/200\n",
            "6/6 [==============================] - 0s 2ms/step - loss: 0.7956\n",
            "Epoch 99/200\n",
            "6/6 [==============================] - 0s 2ms/step - loss: 0.7211\n",
            "Epoch 100/200\n",
            "6/6 [==============================] - 0s 2ms/step - loss: 0.9081\n",
            "Epoch 101/200\n",
            "6/6 [==============================] - 0s 2ms/step - loss: 0.9078\n",
            "Epoch 102/200\n",
            "6/6 [==============================] - 0s 2ms/step - loss: 0.8904\n",
            "Epoch 103/200\n",
            "6/6 [==============================] - 0s 2ms/step - loss: 0.7047\n",
            "Epoch 104/200\n",
            "6/6 [==============================] - 0s 3ms/step - loss: 0.7887\n",
            "Epoch 105/200\n",
            "6/6 [==============================] - 0s 2ms/step - loss: 0.9649\n",
            "Epoch 106/200\n",
            "6/6 [==============================] - 0s 2ms/step - loss: 0.6879\n",
            "Epoch 107/200\n",
            "6/6 [==============================] - 0s 2ms/step - loss: 0.8669\n",
            "Epoch 108/200\n",
            "6/6 [==============================] - 0s 2ms/step - loss: 0.8072\n",
            "Epoch 109/200\n",
            "6/6 [==============================] - 0s 2ms/step - loss: 0.8296\n",
            "Epoch 110/200\n",
            "6/6 [==============================] - 0s 3ms/step - loss: 0.9472\n",
            "Epoch 111/200\n",
            "6/6 [==============================] - 0s 2ms/step - loss: 0.7423\n",
            "Epoch 112/200\n",
            "6/6 [==============================] - 0s 2ms/step - loss: 0.7104\n",
            "Epoch 113/200\n",
            "6/6 [==============================] - 0s 2ms/step - loss: 0.7717\n",
            "Epoch 114/200\n",
            "6/6 [==============================] - 0s 2ms/step - loss: 0.8503\n",
            "Epoch 115/200\n",
            "6/6 [==============================] - 0s 2ms/step - loss: 0.7798\n",
            "Epoch 116/200\n",
            "6/6 [==============================] - 0s 2ms/step - loss: 0.8721\n",
            "Epoch 117/200\n",
            "6/6 [==============================] - 0s 2ms/step - loss: 1.0753\n",
            "Epoch 118/200\n",
            "6/6 [==============================] - 0s 2ms/step - loss: 0.8292\n",
            "Epoch 119/200\n",
            "6/6 [==============================] - 0s 2ms/step - loss: 1.0064\n",
            "Epoch 120/200\n",
            "6/6 [==============================] - 0s 2ms/step - loss: 1.0601\n",
            "Epoch 121/200\n",
            "6/6 [==============================] - 0s 2ms/step - loss: 0.8375\n",
            "Epoch 122/200\n",
            "6/6 [==============================] - 0s 2ms/step - loss: 0.8994\n",
            "Epoch 123/200\n",
            "6/6 [==============================] - 0s 2ms/step - loss: 0.9162\n",
            "Epoch 124/200\n",
            "6/6 [==============================] - 0s 2ms/step - loss: 0.9505\n",
            "Epoch 125/200\n",
            "6/6 [==============================] - 0s 2ms/step - loss: 1.0041\n",
            "Epoch 126/200\n",
            "6/6 [==============================] - 0s 2ms/step - loss: 0.7552\n",
            "Epoch 127/200\n",
            "6/6 [==============================] - 0s 2ms/step - loss: 1.1694\n",
            "Epoch 128/200\n",
            "6/6 [==============================] - 0s 2ms/step - loss: 0.8674\n",
            "Epoch 129/200\n",
            "6/6 [==============================] - 0s 2ms/step - loss: 0.6886\n",
            "Epoch 130/200\n",
            "6/6 [==============================] - 0s 2ms/step - loss: 0.9394\n",
            "Epoch 131/200\n",
            "6/6 [==============================] - 0s 2ms/step - loss: 0.8942\n",
            "Epoch 132/200\n",
            "6/6 [==============================] - 0s 2ms/step - loss: 1.0746\n",
            "Epoch 133/200\n",
            "6/6 [==============================] - 0s 2ms/step - loss: 1.0697\n",
            "Epoch 134/200\n",
            "6/6 [==============================] - 0s 2ms/step - loss: 0.9070\n",
            "Epoch 135/200\n",
            "6/6 [==============================] - 0s 2ms/step - loss: 0.8273\n",
            "Epoch 136/200\n",
            "6/6 [==============================] - 0s 2ms/step - loss: 0.9679\n",
            "Epoch 137/200\n",
            "6/6 [==============================] - 0s 2ms/step - loss: 1.0552\n",
            "Epoch 138/200\n",
            "6/6 [==============================] - 0s 2ms/step - loss: 0.7319\n",
            "Epoch 139/200\n",
            "6/6 [==============================] - 0s 2ms/step - loss: 0.8147\n",
            "Epoch 140/200\n",
            "6/6 [==============================] - 0s 2ms/step - loss: 0.7872\n",
            "Epoch 141/200\n",
            "6/6 [==============================] - 0s 2ms/step - loss: 0.9275\n",
            "Epoch 142/200\n",
            "6/6 [==============================] - 0s 2ms/step - loss: 0.9971\n",
            "Epoch 143/200\n",
            "6/6 [==============================] - 0s 2ms/step - loss: 0.8415\n",
            "Epoch 144/200\n",
            "6/6 [==============================] - 0s 2ms/step - loss: 0.7715\n",
            "Epoch 145/200\n",
            "6/6 [==============================] - 0s 2ms/step - loss: 0.9735\n",
            "Epoch 146/200\n",
            "6/6 [==============================] - 0s 2ms/step - loss: 0.7355\n",
            "Epoch 147/200\n",
            "6/6 [==============================] - 0s 2ms/step - loss: 0.9031\n",
            "Epoch 148/200\n",
            "6/6 [==============================] - 0s 2ms/step - loss: 0.9173\n",
            "Epoch 149/200\n",
            "6/6 [==============================] - 0s 2ms/step - loss: 0.8572\n",
            "Epoch 150/200\n",
            "6/6 [==============================] - 0s 2ms/step - loss: 0.9587\n",
            "Epoch 151/200\n",
            "6/6 [==============================] - 0s 2ms/step - loss: 1.1065\n",
            "Epoch 152/200\n",
            "6/6 [==============================] - 0s 2ms/step - loss: 0.7793\n",
            "Epoch 153/200\n",
            "6/6 [==============================] - 0s 2ms/step - loss: 0.8627\n",
            "Epoch 154/200\n",
            "6/6 [==============================] - 0s 2ms/step - loss: 0.8072\n",
            "Epoch 155/200\n",
            "6/6 [==============================] - 0s 2ms/step - loss: 0.9781\n",
            "Epoch 156/200\n",
            "6/6 [==============================] - 0s 2ms/step - loss: 0.7476\n",
            "Epoch 157/200\n",
            "6/6 [==============================] - 0s 2ms/step - loss: 0.8843\n",
            "Epoch 158/200\n",
            "6/6 [==============================] - 0s 2ms/step - loss: 1.0308\n",
            "Epoch 159/200\n",
            "6/6 [==============================] - 0s 2ms/step - loss: 0.7957\n",
            "Epoch 160/200\n",
            "6/6 [==============================] - 0s 2ms/step - loss: 0.8244\n",
            "Epoch 161/200\n",
            "6/6 [==============================] - 0s 2ms/step - loss: 1.0906\n",
            "Epoch 162/200\n",
            "6/6 [==============================] - 0s 4ms/step - loss: 0.8485\n",
            "Epoch 163/200\n",
            "6/6 [==============================] - 0s 2ms/step - loss: 1.1236\n",
            "Epoch 164/200\n",
            "6/6 [==============================] - 0s 2ms/step - loss: 0.9027\n",
            "Epoch 165/200\n",
            "6/6 [==============================] - 0s 3ms/step - loss: 0.8393\n",
            "Epoch 166/200\n",
            "6/6 [==============================] - 0s 3ms/step - loss: 0.7955\n",
            "Epoch 167/200\n",
            "6/6 [==============================] - 0s 2ms/step - loss: 0.8307\n",
            "Epoch 168/200\n",
            "6/6 [==============================] - 0s 3ms/step - loss: 0.9100\n",
            "Epoch 169/200\n",
            "6/6 [==============================] - 0s 2ms/step - loss: 0.7068\n",
            "Epoch 170/200\n",
            "6/6 [==============================] - 0s 2ms/step - loss: 1.0959\n",
            "Epoch 171/200\n",
            "6/6 [==============================] - 0s 2ms/step - loss: 0.7654\n",
            "Epoch 172/200\n",
            "6/6 [==============================] - 0s 2ms/step - loss: 0.9221\n",
            "Epoch 173/200\n",
            "6/6 [==============================] - 0s 2ms/step - loss: 0.8060\n",
            "Epoch 174/200\n",
            "6/6 [==============================] - 0s 2ms/step - loss: 1.0128\n",
            "Epoch 175/200\n",
            "6/6 [==============================] - 0s 3ms/step - loss: 0.9335\n",
            "Epoch 176/200\n",
            "6/6 [==============================] - 0s 2ms/step - loss: 0.8470\n",
            "Epoch 177/200\n",
            "6/6 [==============================] - 0s 2ms/step - loss: 0.9118\n",
            "Epoch 178/200\n",
            "6/6 [==============================] - 0s 2ms/step - loss: 1.0038\n",
            "Epoch 179/200\n",
            "6/6 [==============================] - 0s 2ms/step - loss: 0.9717\n",
            "Epoch 180/200\n",
            "6/6 [==============================] - 0s 2ms/step - loss: 0.9868\n",
            "Epoch 181/200\n",
            "6/6 [==============================] - 0s 2ms/step - loss: 0.8451\n",
            "Epoch 182/200\n",
            "6/6 [==============================] - 0s 2ms/step - loss: 1.0128\n",
            "Epoch 183/200\n",
            "6/6 [==============================] - 0s 2ms/step - loss: 0.8157\n",
            "Epoch 184/200\n",
            "6/6 [==============================] - 0s 2ms/step - loss: 0.8288\n",
            "Epoch 185/200\n",
            "6/6 [==============================] - 0s 3ms/step - loss: 0.8332\n",
            "Epoch 186/200\n",
            "6/6 [==============================] - 0s 2ms/step - loss: 0.7947\n",
            "Epoch 187/200\n",
            "6/6 [==============================] - 0s 2ms/step - loss: 0.8940\n",
            "Epoch 188/200\n",
            "6/6 [==============================] - 0s 2ms/step - loss: 0.8610\n",
            "Epoch 189/200\n",
            "6/6 [==============================] - 0s 2ms/step - loss: 1.0321\n",
            "Epoch 190/200\n",
            "6/6 [==============================] - 0s 2ms/step - loss: 0.9168\n",
            "Epoch 191/200\n",
            "6/6 [==============================] - 0s 2ms/step - loss: 0.8464\n",
            "Epoch 192/200\n",
            "6/6 [==============================] - 0s 2ms/step - loss: 0.8607\n",
            "Epoch 193/200\n",
            "6/6 [==============================] - 0s 2ms/step - loss: 0.7134\n",
            "Epoch 194/200\n",
            "6/6 [==============================] - 0s 2ms/step - loss: 0.8454\n",
            "Epoch 195/200\n",
            "6/6 [==============================] - 0s 2ms/step - loss: 0.6970\n",
            "Epoch 196/200\n",
            "6/6 [==============================] - 0s 3ms/step - loss: 1.2271\n",
            "Epoch 197/200\n",
            "6/6 [==============================] - 0s 2ms/step - loss: 0.9652\n",
            "Epoch 198/200\n",
            "6/6 [==============================] - 0s 2ms/step - loss: 0.7836\n",
            "Epoch 199/200\n",
            "6/6 [==============================] - 0s 2ms/step - loss: 1.1221\n",
            "Epoch 200/200\n",
            "6/6 [==============================] - 0s 3ms/step - loss: 0.7856\n"
          ],
          "name": "stdout"
        }
      ]
    },
    {
      "cell_type": "code",
      "metadata": {
        "colab": {
          "base_uri": "https://localhost:8080/",
          "height": 265
        },
        "id": "NfSQc1QD2pMi",
        "outputId": "70a2a315-9c25-43d1-c643-640263377eaa"
      },
      "source": [
        "plt.plot(r.history[\"loss\"], label=\"val_loss\")\r\n",
        "plt.show()"
      ],
      "execution_count": 11,
      "outputs": [
        {
          "output_type": "display_data",
          "data": {
            "image/png": "[encoded data removed]",
            "text/plain": [
              "<Figure size 432x288 with 1 Axes>"
            ]
          },
          "metadata": {
            "tags": [],
            "needs_background": "light"
          }
        }
      ]
    },
    {
      "cell_type": "code",
      "metadata": {
        "colab": {
          "base_uri": "https://localhost:8080/"
        },
        "id": "immck61s2xOO",
        "outputId": "5a0d5482-fba4-4711-abec-d60c175e8b1e"
      },
      "source": [
        "print(model.layers)\r\n",
        "print(model.layers[0].get_weights())"
      ],
      "execution_count": 13,
      "outputs": [
        {
          "output_type": "stream",
          "text": [
            "[<tensorflow.python.keras.layers.core.Dense object at 0x7f6ba2f57668>]\n",
            "[array([[0.33531895]], dtype=float32), array([17.775951], dtype=float32)]\n"
          ],
          "name": "stdout"
        }
      ]
    },
    {
      "cell_type": "code",
      "metadata": {
        "id": "6KKCYThM3bOP"
      },
      "source": [
        "# the slope of the line\r\n",
        "a = model.layers[0].get_weights()[0][0, 0]"
      ],
      "execution_count": 16,
      "outputs": []
    },
    {
      "cell_type": "code",
      "metadata": {
        "colab": {
          "base_uri": "https://localhost:8080/"
        },
        "id": "e1ZM7f_P3y3s",
        "outputId": "d83b0a6c-4e31-491e-cbf3-ec8d71d06c30"
      },
      "source": [
        "a"
      ],
      "execution_count": 17,
      "outputs": [
        {
          "output_type": "execute_result",
          "data": {
            "text/plain": [
              "0.33531895"
            ]
          },
          "metadata": {
            "tags": []
          },
          "execution_count": 17
        }
      ]
    },
    {
      "cell_type": "code",
      "metadata": {
        "colab": {
          "base_uri": "https://localhost:8080/"
        },
        "id": "u6IcmHcp322K",
        "outputId": "982572ac-6730-4028-c9a3-1fea2150adc6"
      },
      "source": [
        "print(\"Time to double: \", np.log(2) / a)"
      ],
      "execution_count": 18,
      "outputs": [
        {
          "output_type": "stream",
          "text": [
            "Time to double:  2.0671279531752615\n"
          ],
          "name": "stdout"
        }
      ]
    },
    {
      "cell_type": "code",
      "metadata": {
        "id": "QG11cQGZ5PxS"
      },
      "source": [
        ""
      ],
      "execution_count": null,
      "outputs": []
    }
  ]
}