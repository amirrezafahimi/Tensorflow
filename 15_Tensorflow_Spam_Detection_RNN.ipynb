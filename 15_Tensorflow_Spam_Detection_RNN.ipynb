{
  "nbformat": 4,
  "nbformat_minor": 0,
  "metadata": {
    "colab": {
      "name": "15 - Tensorflow Spam Detection RNN.ipynb",
      "provenance": []
    },
    "kernelspec": {
      "name": "python3",
      "display_name": "Python 3"
    },
    "accelerator": "GPU"
  },
  "cells": [
    {
      "cell_type": "code",
      "metadata": {
        "colab": {
          "base_uri": "https://localhost:8080/"
        },
        "id": "nheoQNzgUxvd",
        "outputId": "549aeb1d-c4c4-4c2f-efb5-a94e3ae7fba6"
      },
      "source": [
        "import tensorflow as tf\r\n",
        "print(tf.__version__)"
      ],
      "execution_count": 1,
      "outputs": [
        {
          "output_type": "stream",
          "text": [
            "2.4.0\n"
          ],
          "name": "stdout"
        }
      ]
    },
    {
      "cell_type": "code",
      "metadata": {
        "id": "XPpfTIROU6iG"
      },
      "source": [
        "import numpy as np\r\n",
        "import pandas as pd\r\n",
        "import matplotlib.pyplot as plt\r\n",
        "from sklearn.model_selection import train_test_split\r\n",
        "\r\n",
        "from tensorflow.keras.models import Model\r\n",
        "from tensorflow.keras.layers import Input, Dense, GlobalMaxPooling1D\r\n",
        "from tensorflow.keras.layers import LSTM, Embedding\r\n",
        "from tensorflow.keras.preprocessing.text import Tokenizer\r\n",
        "from tensorflow.keras.preprocessing.sequence import pad_sequences\r\n",
        "\r\n",
        "%matplotlib inline"
      ],
      "execution_count": 2,
      "outputs": []
    },
    {
      "cell_type": "code",
      "metadata": {
        "colab": {
          "base_uri": "https://localhost:8080/"
        },
        "id": "Z2p-53hSVs_2",
        "outputId": "1fdea9bf-b900-4a19-b6fe-70851df76a12"
      },
      "source": [
        "!wget https://lazyprogrammer.me/course_files/spam.csv"
      ],
      "execution_count": 3,
      "outputs": [
        {
          "output_type": "stream",
          "text": [
            "--2021-01-17 07:55:35--  https://lazyprogrammer.me/course_files/spam.csv\n",
            "Resolving lazyprogrammer.me (lazyprogrammer.me)... 172.67.213.166, 104.21.23.210, 2606:4700:3030::ac43:d5a6, ...\n",
            "Connecting to lazyprogrammer.me (lazyprogrammer.me)|172.67.213.166|:443... connected.\n",
            "HTTP request sent, awaiting response... 200 OK\n",
            "Length: 503663 (492K) [text/csv]\n",
            "Saving to: ‘spam.csv’\n",
            "\n",
            "spam.csv            100%[===================>] 491.86K  1.20MB/s    in 0.4s    \n",
            "\n",
            "2021-01-17 07:55:37 (1.20 MB/s) - ‘spam.csv’ saved [503663/503663]\n",
            "\n"
          ],
          "name": "stdout"
        }
      ]
    },
    {
      "cell_type": "code",
      "metadata": {
        "id": "RS3IVcbpV5h5"
      },
      "source": [
        "df = pd.read_csv(\"spam.csv\", encoding=\"ISO-8859-1\")"
      ],
      "execution_count": 4,
      "outputs": []
    },
    {
      "cell_type": "code",
      "metadata": {
        "colab": {
          "base_uri": "https://localhost:8080/",
          "height": 204
        },
        "id": "1HcZ2yAPXRU2",
        "outputId": "6e8b09d1-33aa-407b-b2d7-11a380db8df8"
      },
      "source": [
        "df.head()"
      ],
      "execution_count": 5,
      "outputs": [
        {
          "output_type": "execute_result",
          "data": {
            "text/html": [
              "<div>\n",
              "<style scoped>\n",
              "    .dataframe tbody tr th:only-of-type {\n",
              "        vertical-align: middle;\n",
              "    }\n",
              "\n",
              "    .dataframe tbody tr th {\n",
              "        vertical-align: top;\n",
              "    }\n",
              "\n",
              "    .dataframe thead th {\n",
              "        text-align: right;\n",
              "    }\n",
              "</style>\n",
              "<table border=\"1\" class=\"dataframe\">\n",
              "  <thead>\n",
              "    <tr style=\"text-align: right;\">\n",
              "      <th></th>\n",
              "      <th>v1</th>\n",
              "      <th>v2</th>\n",
              "      <th>Unnamed: 2</th>\n",
              "      <th>Unnamed: 3</th>\n",
              "      <th>Unnamed: 4</th>\n",
              "    </tr>\n",
              "  </thead>\n",
              "  <tbody>\n",
              "    <tr>\n",
              "      <th>0</th>\n",
              "      <td>ham</td>\n",
              "      <td>Go until jurong point, crazy.. Available only ...</td>\n",
              "      <td>NaN</td>\n",
              "      <td>NaN</td>\n",
              "      <td>NaN</td>\n",
              "    </tr>\n",
              "    <tr>\n",
              "      <th>1</th>\n",
              "      <td>ham</td>\n",
              "      <td>Ok lar... Joking wif u oni...</td>\n",
              "      <td>NaN</td>\n",
              "      <td>NaN</td>\n",
              "      <td>NaN</td>\n",
              "    </tr>\n",
              "    <tr>\n",
              "      <th>2</th>\n",
              "      <td>spam</td>\n",
              "      <td>Free entry in 2 a wkly comp to win FA Cup fina...</td>\n",
              "      <td>NaN</td>\n",
              "      <td>NaN</td>\n",
              "      <td>NaN</td>\n",
              "    </tr>\n",
              "    <tr>\n",
              "      <th>3</th>\n",
              "      <td>ham</td>\n",
              "      <td>U dun say so early hor... U c already then say...</td>\n",
              "      <td>NaN</td>\n",
              "      <td>NaN</td>\n",
              "      <td>NaN</td>\n",
              "    </tr>\n",
              "    <tr>\n",
              "      <th>4</th>\n",
              "      <td>ham</td>\n",
              "      <td>Nah I don't think he goes to usf, he lives aro...</td>\n",
              "      <td>NaN</td>\n",
              "      <td>NaN</td>\n",
              "      <td>NaN</td>\n",
              "    </tr>\n",
              "  </tbody>\n",
              "</table>\n",
              "</div>"
            ],
            "text/plain": [
              "     v1  ... Unnamed: 4\n",
              "0   ham  ...        NaN\n",
              "1   ham  ...        NaN\n",
              "2  spam  ...        NaN\n",
              "3   ham  ...        NaN\n",
              "4   ham  ...        NaN\n",
              "\n",
              "[5 rows x 5 columns]"
            ]
          },
          "metadata": {
            "tags": []
          },
          "execution_count": 5
        }
      ]
    },
    {
      "cell_type": "code",
      "metadata": {
        "id": "rQe6LkfdXSKZ"
      },
      "source": [
        "df.drop(columns=[\"Unnamed: 2\", \"Unnamed: 3\", \"Unnamed: 4\"], inplace=True)"
      ],
      "execution_count": 7,
      "outputs": []
    },
    {
      "cell_type": "code",
      "metadata": {
        "id": "GNAZmKmaXf5Q"
      },
      "source": [
        "df.columns = [\"labels\", \"data\"]"
      ],
      "execution_count": 9,
      "outputs": []
    },
    {
      "cell_type": "code",
      "metadata": {
        "colab": {
          "base_uri": "https://localhost:8080/",
          "height": 204
        },
        "id": "3c32RKr0XqVA",
        "outputId": "55ef9d96-265b-4cfa-e8ac-cd1e8e64e0d7"
      },
      "source": [
        "df.head()"
      ],
      "execution_count": 11,
      "outputs": [
        {
          "output_type": "execute_result",
          "data": {
            "text/html": [
              "<div>\n",
              "<style scoped>\n",
              "    .dataframe tbody tr th:only-of-type {\n",
              "        vertical-align: middle;\n",
              "    }\n",
              "\n",
              "    .dataframe tbody tr th {\n",
              "        vertical-align: top;\n",
              "    }\n",
              "\n",
              "    .dataframe thead th {\n",
              "        text-align: right;\n",
              "    }\n",
              "</style>\n",
              "<table border=\"1\" class=\"dataframe\">\n",
              "  <thead>\n",
              "    <tr style=\"text-align: right;\">\n",
              "      <th></th>\n",
              "      <th>labels</th>\n",
              "      <th>data</th>\n",
              "    </tr>\n",
              "  </thead>\n",
              "  <tbody>\n",
              "    <tr>\n",
              "      <th>0</th>\n",
              "      <td>ham</td>\n",
              "      <td>Go until jurong point, crazy.. Available only ...</td>\n",
              "    </tr>\n",
              "    <tr>\n",
              "      <th>1</th>\n",
              "      <td>ham</td>\n",
              "      <td>Ok lar... Joking wif u oni...</td>\n",
              "    </tr>\n",
              "    <tr>\n",
              "      <th>2</th>\n",
              "      <td>spam</td>\n",
              "      <td>Free entry in 2 a wkly comp to win FA Cup fina...</td>\n",
              "    </tr>\n",
              "    <tr>\n",
              "      <th>3</th>\n",
              "      <td>ham</td>\n",
              "      <td>U dun say so early hor... U c already then say...</td>\n",
              "    </tr>\n",
              "    <tr>\n",
              "      <th>4</th>\n",
              "      <td>ham</td>\n",
              "      <td>Nah I don't think he goes to usf, he lives aro...</td>\n",
              "    </tr>\n",
              "  </tbody>\n",
              "</table>\n",
              "</div>"
            ],
            "text/plain": [
              "  labels                                               data\n",
              "0    ham  Go until jurong point, crazy.. Available only ...\n",
              "1    ham                      Ok lar... Joking wif u oni...\n",
              "2   spam  Free entry in 2 a wkly comp to win FA Cup fina...\n",
              "3    ham  U dun say so early hor... U c already then say...\n",
              "4    ham  Nah I don't think he goes to usf, he lives aro..."
            ]
          },
          "metadata": {
            "tags": []
          },
          "execution_count": 11
        }
      ]
    },
    {
      "cell_type": "code",
      "metadata": {
        "id": "Lr4MizU8Xs3Y"
      },
      "source": [
        "df[\"b_labels\"] = df[\"labels\"].map({\"ham\": 0, \"spam\": 1})"
      ],
      "execution_count": 14,
      "outputs": []
    },
    {
      "cell_type": "code",
      "metadata": {
        "colab": {
          "base_uri": "https://localhost:8080/",
          "height": 204
        },
        "id": "R-7Mz5QzX34q",
        "outputId": "31070630-82f0-4773-a8e6-58bcc677a926"
      },
      "source": [
        "df.head()"
      ],
      "execution_count": 15,
      "outputs": [
        {
          "output_type": "execute_result",
          "data": {
            "text/html": [
              "<div>\n",
              "<style scoped>\n",
              "    .dataframe tbody tr th:only-of-type {\n",
              "        vertical-align: middle;\n",
              "    }\n",
              "\n",
              "    .dataframe tbody tr th {\n",
              "        vertical-align: top;\n",
              "    }\n",
              "\n",
              "    .dataframe thead th {\n",
              "        text-align: right;\n",
              "    }\n",
              "</style>\n",
              "<table border=\"1\" class=\"dataframe\">\n",
              "  <thead>\n",
              "    <tr style=\"text-align: right;\">\n",
              "      <th></th>\n",
              "      <th>labels</th>\n",
              "      <th>data</th>\n",
              "      <th>b_labels</th>\n",
              "    </tr>\n",
              "  </thead>\n",
              "  <tbody>\n",
              "    <tr>\n",
              "      <th>0</th>\n",
              "      <td>ham</td>\n",
              "      <td>Go until jurong point, crazy.. Available only ...</td>\n",
              "      <td>0</td>\n",
              "    </tr>\n",
              "    <tr>\n",
              "      <th>1</th>\n",
              "      <td>ham</td>\n",
              "      <td>Ok lar... Joking wif u oni...</td>\n",
              "      <td>0</td>\n",
              "    </tr>\n",
              "    <tr>\n",
              "      <th>2</th>\n",
              "      <td>spam</td>\n",
              "      <td>Free entry in 2 a wkly comp to win FA Cup fina...</td>\n",
              "      <td>1</td>\n",
              "    </tr>\n",
              "    <tr>\n",
              "      <th>3</th>\n",
              "      <td>ham</td>\n",
              "      <td>U dun say so early hor... U c already then say...</td>\n",
              "      <td>0</td>\n",
              "    </tr>\n",
              "    <tr>\n",
              "      <th>4</th>\n",
              "      <td>ham</td>\n",
              "      <td>Nah I don't think he goes to usf, he lives aro...</td>\n",
              "      <td>0</td>\n",
              "    </tr>\n",
              "  </tbody>\n",
              "</table>\n",
              "</div>"
            ],
            "text/plain": [
              "  labels                                               data  b_labels\n",
              "0    ham  Go until jurong point, crazy.. Available only ...         0\n",
              "1    ham                      Ok lar... Joking wif u oni...         0\n",
              "2   spam  Free entry in 2 a wkly comp to win FA Cup fina...         1\n",
              "3    ham  U dun say so early hor... U c already then say...         0\n",
              "4    ham  Nah I don't think he goes to usf, he lives aro...         0"
            ]
          },
          "metadata": {
            "tags": []
          },
          "execution_count": 15
        }
      ]
    },
    {
      "cell_type": "code",
      "metadata": {
        "id": "CqCQ4ji4X-gs"
      },
      "source": [
        "Y = df.b_labels.values"
      ],
      "execution_count": 17,
      "outputs": []
    },
    {
      "cell_type": "code",
      "metadata": {
        "id": "5uL33QkTYDMC"
      },
      "source": [
        "df_train, df_test, Ytrain, Ytest = train_test_split(df[\"data\"], Y, test_size=0.33)"
      ],
      "execution_count": 18,
      "outputs": []
    },
    {
      "cell_type": "code",
      "metadata": {
        "colab": {
          "base_uri": "https://localhost:8080/"
        },
        "id": "KnrVRRUsYQpk",
        "outputId": "72c28a9d-3dcd-4fba-cc91-5f3f974c67aa"
      },
      "source": [
        "df_train.shape, Ytrain.shape, df_test.shape, Ytest.shape"
      ],
      "execution_count": 20,
      "outputs": [
        {
          "output_type": "execute_result",
          "data": {
            "text/plain": [
              "((3733,), (3733,), (1839,), (1839,))"
            ]
          },
          "metadata": {
            "tags": []
          },
          "execution_count": 20
        }
      ]
    },
    {
      "cell_type": "code",
      "metadata": {
        "id": "a-xtttPxYRc6"
      },
      "source": [
        "MAX_VOCAB_SIZE = 20000\r\n",
        "tokenizer = Tokenizer(num_words=MAX_VOCAB_SIZE)\r\n",
        "tokenizer.fit_on_texts(df_train)\r\n",
        "sequences_train = tokenizer.texts_to_sequences(df_train)\r\n",
        "sequences_test = tokenizer.texts_to_sequences(df_test)"
      ],
      "execution_count": 21,
      "outputs": []
    },
    {
      "cell_type": "code",
      "metadata": {
        "colab": {
          "base_uri": "https://localhost:8080/"
        },
        "id": "xOg09GS2Y03j",
        "outputId": "991682e9-d19f-4a41-e624-b29c2dad7139"
      },
      "source": [
        "word2idx = tokenizer.word_index\r\n",
        "V = len(word2idx)\r\n",
        "print(f\"Found {V} unique words\")"
      ],
      "execution_count": 25,
      "outputs": [
        {
          "output_type": "stream",
          "text": [
            "Found 7300 unique words\n"
          ],
          "name": "stdout"
        }
      ]
    },
    {
      "cell_type": "code",
      "metadata": {
        "colab": {
          "base_uri": "https://localhost:8080/"
        },
        "id": "DYRi78iMZAXZ",
        "outputId": "f612b215-98c9-4f37-c33a-71b3c79fd849"
      },
      "source": [
        "data_train = pad_sequences(sequences_train)\r\n",
        "print(\"shape of the train dataset:\", data_train.shape)\r\n",
        "\r\n",
        "T = data_train.shape[1]"
      ],
      "execution_count": 28,
      "outputs": [
        {
          "output_type": "stream",
          "text": [
            "shape of the train dataset: (3733, 189)\n"
          ],
          "name": "stdout"
        }
      ]
    },
    {
      "cell_type": "code",
      "metadata": {
        "colab": {
          "base_uri": "https://localhost:8080/"
        },
        "id": "PGB4crADZn4t",
        "outputId": "f71c9e9e-7f79-478b-8bae-b5f622ef3b6c"
      },
      "source": [
        "data_test = pad_sequences(sequences_test, maxlen=T)\r\n",
        "print(\"shape of the test dataset:\", data_test.shape)"
      ],
      "execution_count": 29,
      "outputs": [
        {
          "output_type": "stream",
          "text": [
            "shape of the test dataset: (1839, 189)\n"
          ],
          "name": "stdout"
        }
      ]
    },
    {
      "cell_type": "code",
      "metadata": {
        "id": "BhlLgO3YZ1qg"
      },
      "source": [
        "D = 20\r\n",
        "M = 15\r\n",
        "\r\n",
        "i = Input(shape=(T,))\r\n",
        "x = Embedding(input_dim=V + 1, output_dim=D)(i)\r\n",
        "x = LSTM(units=M, return_sequences=True)(x)\r\n",
        "x = GlobalMaxPooling1D()(x)\r\n",
        "x = Dense(units=1, activation=tf.keras.activations.sigmoid)(x)\r\n",
        "\r\n",
        "model = Model(inputs=[i], outputs=[x])"
      ],
      "execution_count": 36,
      "outputs": []
    },
    {
      "cell_type": "code",
      "metadata": {
        "colab": {
          "base_uri": "https://localhost:8080/"
        },
        "id": "YAA-lu2ybCD7",
        "outputId": "8c6fe61e-b6d0-4c38-80da-de0c5f624c1d"
      },
      "source": [
        "model.compile(optimizer=tf.keras.optimizers.Adam(), \r\n",
        "              loss=tf.keras.losses.binary_crossentropy, \r\n",
        "              metrics=[\"accuracy\"])\r\n",
        "\r\n",
        "print(\"training model...\")\r\n",
        "r = model.fit(x=data_train, y=Ytrain, \r\n",
        "          epochs=30, \r\n",
        "          validation_data=(data_test, Ytest))"
      ],
      "execution_count": 37,
      "outputs": [
        {
          "output_type": "stream",
          "text": [
            "training model...\n",
            "Epoch 1/30\n",
            "117/117 [==============================] - 3s 16ms/step - loss: 0.5955 - accuracy: 0.7841 - val_loss: 0.3970 - val_accuracy: 0.8641\n",
            "Epoch 2/30\n",
            "117/117 [==============================] - 2s 13ms/step - loss: 0.3770 - accuracy: 0.8746 - val_loss: 0.3926 - val_accuracy: 0.8641\n",
            "Epoch 3/30\n",
            "117/117 [==============================] - 2s 13ms/step - loss: 0.3943 - accuracy: 0.8609 - val_loss: 0.3725 - val_accuracy: 0.8641\n",
            "Epoch 4/30\n",
            "117/117 [==============================] - 2s 13ms/step - loss: 0.3319 - accuracy: 0.8692 - val_loss: 0.1446 - val_accuracy: 0.9685\n",
            "Epoch 5/30\n",
            "117/117 [==============================] - 2s 13ms/step - loss: 0.0977 - accuracy: 0.9854 - val_loss: 0.0689 - val_accuracy: 0.9869\n",
            "Epoch 6/30\n",
            "117/117 [==============================] - 2s 13ms/step - loss: 0.0357 - accuracy: 0.9961 - val_loss: 0.0579 - val_accuracy: 0.9864\n",
            "Epoch 7/30\n",
            "117/117 [==============================] - 2s 13ms/step - loss: 0.0215 - accuracy: 0.9974 - val_loss: 0.0541 - val_accuracy: 0.9875\n",
            "Epoch 8/30\n",
            "117/117 [==============================] - 2s 13ms/step - loss: 0.0114 - accuracy: 0.9988 - val_loss: 0.0532 - val_accuracy: 0.9831\n",
            "Epoch 9/30\n",
            "117/117 [==============================] - 2s 13ms/step - loss: 0.0077 - accuracy: 0.9996 - val_loss: 0.0558 - val_accuracy: 0.9848\n",
            "Epoch 10/30\n",
            "117/117 [==============================] - 2s 13ms/step - loss: 0.0053 - accuracy: 0.9997 - val_loss: 0.0562 - val_accuracy: 0.9831\n",
            "Epoch 11/30\n",
            "117/117 [==============================] - 2s 13ms/step - loss: 0.0050 - accuracy: 0.9997 - val_loss: 0.0604 - val_accuracy: 0.9853\n",
            "Epoch 12/30\n",
            "117/117 [==============================] - 2s 13ms/step - loss: 0.0053 - accuracy: 0.9992 - val_loss: 0.0622 - val_accuracy: 0.9837\n",
            "Epoch 13/30\n",
            "117/117 [==============================] - 2s 13ms/step - loss: 0.0033 - accuracy: 0.9997 - val_loss: 0.0644 - val_accuracy: 0.9837\n",
            "Epoch 14/30\n",
            "117/117 [==============================] - 2s 13ms/step - loss: 0.0018 - accuracy: 1.0000 - val_loss: 0.0665 - val_accuracy: 0.9842\n",
            "Epoch 15/30\n",
            "117/117 [==============================] - 2s 14ms/step - loss: 0.0023 - accuracy: 0.9996 - val_loss: 0.0681 - val_accuracy: 0.9831\n",
            "Epoch 16/30\n",
            "117/117 [==============================] - 2s 13ms/step - loss: 0.0020 - accuracy: 0.9996 - val_loss: 0.0692 - val_accuracy: 0.9837\n",
            "Epoch 17/30\n",
            "117/117 [==============================] - 2s 13ms/step - loss: 0.0014 - accuracy: 0.9998 - val_loss: 0.0701 - val_accuracy: 0.9842\n",
            "Epoch 18/30\n",
            "117/117 [==============================] - 2s 13ms/step - loss: 0.0011 - accuracy: 0.9999 - val_loss: 0.0711 - val_accuracy: 0.9842\n",
            "Epoch 19/30\n",
            "117/117 [==============================] - 2s 13ms/step - loss: 8.7784e-04 - accuracy: 1.0000 - val_loss: 0.0725 - val_accuracy: 0.9842\n",
            "Epoch 20/30\n",
            "117/117 [==============================] - 2s 13ms/step - loss: 9.8110e-04 - accuracy: 1.0000 - val_loss: 0.0744 - val_accuracy: 0.9837\n",
            "Epoch 21/30\n",
            "117/117 [==============================] - 2s 13ms/step - loss: 7.3974e-04 - accuracy: 1.0000 - val_loss: 0.0760 - val_accuracy: 0.9842\n",
            "Epoch 22/30\n",
            "117/117 [==============================] - 2s 13ms/step - loss: 6.0175e-04 - accuracy: 1.0000 - val_loss: 0.0778 - val_accuracy: 0.9837\n",
            "Epoch 23/30\n",
            "117/117 [==============================] - 2s 13ms/step - loss: 5.5703e-04 - accuracy: 1.0000 - val_loss: 0.0793 - val_accuracy: 0.9837\n",
            "Epoch 24/30\n",
            "117/117 [==============================] - 2s 13ms/step - loss: 5.0617e-04 - accuracy: 1.0000 - val_loss: 0.0806 - val_accuracy: 0.9842\n",
            "Epoch 25/30\n",
            "117/117 [==============================] - 2s 13ms/step - loss: 5.4840e-04 - accuracy: 1.0000 - val_loss: 0.0821 - val_accuracy: 0.9837\n",
            "Epoch 26/30\n",
            "117/117 [==============================] - 2s 13ms/step - loss: 4.6388e-04 - accuracy: 1.0000 - val_loss: 0.0835 - val_accuracy: 0.9842\n",
            "Epoch 27/30\n",
            "117/117 [==============================] - 2s 13ms/step - loss: 3.6436e-04 - accuracy: 1.0000 - val_loss: 0.0848 - val_accuracy: 0.9842\n",
            "Epoch 28/30\n",
            "117/117 [==============================] - 2s 13ms/step - loss: 3.6040e-04 - accuracy: 1.0000 - val_loss: 0.0860 - val_accuracy: 0.9842\n",
            "Epoch 29/30\n",
            "117/117 [==============================] - 2s 13ms/step - loss: 2.9810e-04 - accuracy: 1.0000 - val_loss: 0.0872 - val_accuracy: 0.9837\n",
            "Epoch 30/30\n",
            "117/117 [==============================] - 2s 13ms/step - loss: 2.9200e-04 - accuracy: 1.0000 - val_loss: 0.0883 - val_accuracy: 0.9837\n"
          ],
          "name": "stdout"
        }
      ]
    },
    {
      "cell_type": "code",
      "metadata": {
        "colab": {
          "base_uri": "https://localhost:8080/",
          "height": 282
        },
        "id": "01qJLEAIbp29",
        "outputId": "5255fa13-9071-400c-8876-79da12eaee37"
      },
      "source": [
        "plt.plot(r.history[\"loss\"], label=\"loss\")\r\n",
        "plt.plot(r.history[\"val_loss\"], label=\"val_loss\")\r\n",
        "plt.legend()\r\n",
        "plt.plot()"
      ],
      "execution_count": 38,
      "outputs": [
        {
          "output_type": "execute_result",
          "data": {
            "text/plain": [
              "[]"
            ]
          },
          "metadata": {
            "tags": []
          },
          "execution_count": 38
        },
        {
          "output_type": "display_data",
          "data": {
            "image/png": "[encoded data removed]",
            "text/plain": [
              "<Figure size 432x288 with 1 Axes>"
            ]
          },
          "metadata": {
            "tags": [],
            "needs_background": "light"
          }
        }
      ]
    },
    {
      "cell_type": "code",
      "metadata": {
        "colab": {
          "base_uri": "https://localhost:8080/",
          "height": 265
        },
        "id": "2-X0Oh1ncW3m",
        "outputId": "e23260d8-bd15-4cda-8ba6-d8ede03500ae"
      },
      "source": [
        "plt.plot(r.history[\"accuracy\"], label=\"accuracy\")\r\n",
        "plt.plot(r.history[\"val_accuracy\"], label=\"val_accuracy\")\r\n",
        "plt.legend()\r\n",
        "plt.show()"
      ],
      "execution_count": 39,
      "outputs": [
        {
          "output_type": "display_data",
          "data": {
            "image/png": "[encoded data removed]",
            "text/plain": [
              "<Figure size 432x288 with 1 Axes>"
            ]
          },
          "metadata": {
            "tags": [],
            "needs_background": "light"
          }
        }
      ]
    },
    {
      "cell_type": "code",
      "metadata": {
        "id": "H1SctE0Tcfoq"
      },
      "source": [
        ""
      ],
      "execution_count": null,
      "outputs": []
    }
  ]
}