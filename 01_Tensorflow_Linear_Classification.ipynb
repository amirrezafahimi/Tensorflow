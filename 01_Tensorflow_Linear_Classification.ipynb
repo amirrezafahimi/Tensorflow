{
  "nbformat": 4,
  "nbformat_minor": 0,
  "metadata": {
    "colab": {
      "name": "01 - Tensorflow Linear Classification.ipynb",
      "provenance": []
    },
    "kernelspec": {
      "name": "python3",
      "display_name": "Python 3"
    },
    "accelerator": "GPU"
  },
  "cells": [
    {
      "cell_type": "code",
      "metadata": {
        "colab": {
          "base_uri": "https://localhost:8080/"
        },
        "id": "LmTCan48q-y0",
        "outputId": "740032dc-b1ce-4835-f48b-bd16d171563f"
      },
      "source": [
        "import tensorflow as tf\r\n",
        "print(tf.__version__)"
      ],
      "execution_count": 1,
      "outputs": [
        {
          "output_type": "stream",
          "text": [
            "2.4.0\n"
          ],
          "name": "stdout"
        }
      ]
    },
    {
      "cell_type": "code",
      "metadata": {
        "id": "FXv9LZuSrXJV"
      },
      "source": [
        "from sklearn.datasets import load_breast_cancer"
      ],
      "execution_count": 2,
      "outputs": []
    },
    {
      "cell_type": "code",
      "metadata": {
        "id": "IUsfJ4byrgf_"
      },
      "source": [
        "data = load_breast_cancer()"
      ],
      "execution_count": 3,
      "outputs": []
    },
    {
      "cell_type": "code",
      "metadata": {
        "colab": {
          "base_uri": "https://localhost:8080/"
        },
        "id": "UqsrCmICrwkE",
        "outputId": "f2abf9c0-f5c2-4a5b-8bae-c3ebfb20f888"
      },
      "source": [
        "type(data)"
      ],
      "execution_count": 4,
      "outputs": [
        {
          "output_type": "execute_result",
          "data": {
            "text/plain": [
              "sklearn.utils.Bunch"
            ]
          },
          "metadata": {
            "tags": []
          },
          "execution_count": 4
        }
      ]
    },
    {
      "cell_type": "code",
      "metadata": {
        "colab": {
          "base_uri": "https://localhost:8080/"
        },
        "id": "pHTVFhD_ryRT",
        "outputId": "518cd57d-bd3c-4c5c-a687-77f29f99e42d"
      },
      "source": [
        "dir(data)"
      ],
      "execution_count": 5,
      "outputs": [
        {
          "output_type": "execute_result",
          "data": {
            "text/plain": [
              "['DESCR', 'data', 'feature_names', 'filename', 'target', 'target_names']"
            ]
          },
          "metadata": {
            "tags": []
          },
          "execution_count": 5
        }
      ]
    },
    {
      "cell_type": "code",
      "metadata": {
        "colab": {
          "base_uri": "https://localhost:8080/"
        },
        "id": "-ZimaW6Vr4zK",
        "outputId": "be8813e3-f81c-4d75-ac4e-fe85f5da8458"
      },
      "source": [
        "data.keys()"
      ],
      "execution_count": 6,
      "outputs": [
        {
          "output_type": "execute_result",
          "data": {
            "text/plain": [
              "dict_keys(['data', 'target', 'target_names', 'DESCR', 'feature_names', 'filename'])"
            ]
          },
          "metadata": {
            "tags": []
          },
          "execution_count": 6
        }
      ]
    },
    {
      "cell_type": "code",
      "metadata": {
        "colab": {
          "base_uri": "https://localhost:8080/"
        },
        "id": "hrkn5aH_sB0H",
        "outputId": "66460cd4-1bb7-4e2a-874c-bb147a56dba0"
      },
      "source": [
        "data.data.shape"
      ],
      "execution_count": 7,
      "outputs": [
        {
          "output_type": "execute_result",
          "data": {
            "text/plain": [
              "(569, 30)"
            ]
          },
          "metadata": {
            "tags": []
          },
          "execution_count": 7
        }
      ]
    },
    {
      "cell_type": "code",
      "metadata": {
        "colab": {
          "base_uri": "https://localhost:8080/"
        },
        "id": "dcrwG0eJsOfR",
        "outputId": "f49cd7db-02fd-4698-a364-db8d8f9f981b"
      },
      "source": [
        "data.target"
      ],
      "execution_count": 8,
      "outputs": [
        {
          "output_type": "execute_result",
          "data": {
            "text/plain": [
              "array([0, 0, 0, 0, 0, 0, 0, 0, 0, 0, 0, 0, 0, 0, 0, 0, 0, 0, 0, 1, 1, 1,\n",
              "       0, 0, 0, 0, 0, 0, 0, 0, 0, 0, 0, 0, 0, 0, 0, 1, 0, 0, 0, 0, 0, 0,\n",
              "       0, 0, 1, 0, 1, 1, 1, 1, 1, 0, 0, 1, 0, 0, 1, 1, 1, 1, 0, 1, 0, 0,\n",
              "       1, 1, 1, 1, 0, 1, 0, 0, 1, 0, 1, 0, 0, 1, 1, 1, 0, 0, 1, 0, 0, 0,\n",
              "       1, 1, 1, 0, 1, 1, 0, 0, 1, 1, 1, 0, 0, 1, 1, 1, 1, 0, 1, 1, 0, 1,\n",
              "       1, 1, 1, 1, 1, 1, 1, 0, 0, 0, 1, 0, 0, 1, 1, 1, 0, 0, 1, 0, 1, 0,\n",
              "       0, 1, 0, 0, 1, 1, 0, 1, 1, 0, 1, 1, 1, 1, 0, 1, 1, 1, 1, 1, 1, 1,\n",
              "       1, 1, 0, 1, 1, 1, 1, 0, 0, 1, 0, 1, 1, 0, 0, 1, 1, 0, 0, 1, 1, 1,\n",
              "       1, 0, 1, 1, 0, 0, 0, 1, 0, 1, 0, 1, 1, 1, 0, 1, 1, 0, 0, 1, 0, 0,\n",
              "       0, 0, 1, 0, 0, 0, 1, 0, 1, 0, 1, 1, 0, 1, 0, 0, 0, 0, 1, 1, 0, 0,\n",
              "       1, 1, 1, 0, 1, 1, 1, 1, 1, 0, 0, 1, 1, 0, 1, 1, 0, 0, 1, 0, 1, 1,\n",
              "       1, 1, 0, 1, 1, 1, 1, 1, 0, 1, 0, 0, 0, 0, 0, 0, 0, 0, 0, 0, 0, 0,\n",
              "       0, 0, 1, 1, 1, 1, 1, 1, 0, 1, 0, 1, 1, 0, 1, 1, 0, 1, 0, 0, 1, 1,\n",
              "       1, 1, 1, 1, 1, 1, 1, 1, 1, 1, 1, 0, 1, 1, 0, 1, 0, 1, 1, 1, 1, 1,\n",
              "       1, 1, 1, 1, 1, 1, 1, 1, 1, 0, 1, 1, 1, 0, 1, 0, 1, 1, 1, 1, 0, 0,\n",
              "       0, 1, 1, 1, 1, 0, 1, 0, 1, 0, 1, 1, 1, 0, 1, 1, 1, 1, 1, 1, 1, 0,\n",
              "       0, 0, 1, 1, 1, 1, 1, 1, 1, 1, 1, 1, 1, 0, 0, 1, 0, 0, 0, 1, 0, 0,\n",
              "       1, 1, 1, 1, 1, 0, 1, 1, 1, 1, 1, 0, 1, 1, 1, 0, 1, 1, 0, 0, 1, 1,\n",
              "       1, 1, 1, 1, 0, 1, 1, 1, 1, 1, 1, 1, 0, 1, 1, 1, 1, 1, 0, 1, 1, 0,\n",
              "       1, 1, 1, 1, 1, 1, 1, 1, 1, 1, 1, 1, 0, 1, 0, 0, 1, 0, 1, 1, 1, 1,\n",
              "       1, 0, 1, 1, 0, 1, 0, 1, 1, 0, 1, 0, 1, 1, 1, 1, 1, 1, 1, 1, 0, 0,\n",
              "       1, 1, 1, 1, 1, 1, 0, 1, 1, 1, 1, 1, 1, 1, 1, 1, 1, 0, 1, 1, 1, 1,\n",
              "       1, 1, 1, 0, 1, 0, 1, 1, 0, 1, 1, 1, 1, 1, 0, 0, 1, 0, 1, 0, 1, 1,\n",
              "       1, 1, 1, 0, 1, 1, 0, 1, 0, 1, 0, 0, 1, 1, 1, 0, 1, 1, 1, 1, 1, 1,\n",
              "       1, 1, 1, 1, 1, 0, 1, 0, 0, 1, 1, 1, 1, 1, 1, 1, 1, 1, 1, 1, 1, 1,\n",
              "       1, 1, 1, 1, 1, 1, 1, 1, 1, 1, 1, 1, 0, 0, 0, 0, 0, 0, 1])"
            ]
          },
          "metadata": {
            "tags": []
          },
          "execution_count": 8
        }
      ]
    },
    {
      "cell_type": "code",
      "metadata": {
        "colab": {
          "base_uri": "https://localhost:8080/"
        },
        "id": "YOeCYa2jsVxX",
        "outputId": "19fd3ef9-256a-42be-e071-3be22cc874e4"
      },
      "source": [
        "data.target_names"
      ],
      "execution_count": 9,
      "outputs": [
        {
          "output_type": "execute_result",
          "data": {
            "text/plain": [
              "array(['malignant', 'benign'], dtype='<U9')"
            ]
          },
          "metadata": {
            "tags": []
          },
          "execution_count": 9
        }
      ]
    },
    {
      "cell_type": "code",
      "metadata": {
        "colab": {
          "base_uri": "https://localhost:8080/"
        },
        "id": "e9fTy1dVskyf",
        "outputId": "32af5061-59ee-4ff9-f6c1-b6a358ca4531"
      },
      "source": [
        "data.feature_names"
      ],
      "execution_count": 10,
      "outputs": [
        {
          "output_type": "execute_result",
          "data": {
            "text/plain": [
              "array(['mean radius', 'mean texture', 'mean perimeter', 'mean area',\n",
              "       'mean smoothness', 'mean compactness', 'mean concavity',\n",
              "       'mean concave points', 'mean symmetry', 'mean fractal dimension',\n",
              "       'radius error', 'texture error', 'perimeter error', 'area error',\n",
              "       'smoothness error', 'compactness error', 'concavity error',\n",
              "       'concave points error', 'symmetry error',\n",
              "       'fractal dimension error', 'worst radius', 'worst texture',\n",
              "       'worst perimeter', 'worst area', 'worst smoothness',\n",
              "       'worst compactness', 'worst concavity', 'worst concave points',\n",
              "       'worst symmetry', 'worst fractal dimension'], dtype='<U23')"
            ]
          },
          "metadata": {
            "tags": []
          },
          "execution_count": 10
        }
      ]
    },
    {
      "cell_type": "code",
      "metadata": {
        "id": "F-KFj9NXsaEh"
      },
      "source": [
        "from sklearn.model_selection import train_test_split\r\n",
        "\r\n",
        "X_train, X_test, y_train, y_test = train_test_split(data.data, data.target, test_size=0.33)\r\n",
        "\r\n",
        "N, D = X_train.shape"
      ],
      "execution_count": 11,
      "outputs": []
    },
    {
      "cell_type": "code",
      "metadata": {
        "id": "AIz2V7aVsvLz"
      },
      "source": [
        "from sklearn.preprocessing import StandardScaler\r\n",
        "\r\n",
        "scaler = StandardScaler()\r\n",
        "X_train = scaler.fit_transform(X_train)\r\n",
        "X_test = scaler.transform(X_test)"
      ],
      "execution_count": 12,
      "outputs": []
    },
    {
      "cell_type": "code",
      "metadata": {
        "colab": {
          "base_uri": "https://localhost:8080/"
        },
        "id": "gzyQx0e7tFci",
        "outputId": "9985224b-498b-4fb3-9ae5-afa4fe90045c"
      },
      "source": [
        "model = tf.keras.Sequential([\r\n",
        "                             tf.keras.layers.Input(shape=(D,)), \r\n",
        "                             tf.keras.layers.Dense(units=1, activation=tf.keras.activations.sigmoid)\r\n",
        "])\r\n",
        "\r\n",
        "model.compile(optimizer=tf.keras.optimizers.Adam(), \r\n",
        "              loss=tf.keras.losses.binary_crossentropy, \r\n",
        "              metrics=[\"accuracy\"])\r\n",
        "\r\n",
        "r = model.fit(x=X_train, y=y_train,             \r\n",
        "              epochs=100, validation_data=(X_test, y_test))\r\n",
        "\r\n",
        "print(f\"train score: {model.evaluate(x=X_train, y=y_train)}\")\r\n",
        "print(f\"test score: {model.evaluate(x=X_test, y=y_test)}\")"
      ],
      "execution_count": 13,
      "outputs": [
        {
          "output_type": "stream",
          "text": [
            "Epoch 1/100\n",
            "12/12 [==============================] - 2s 34ms/step - loss: 0.6642 - accuracy: 0.6289 - val_loss: 0.6351 - val_accuracy: 0.6436\n",
            "Epoch 2/100\n",
            "12/12 [==============================] - 0s 5ms/step - loss: 0.6034 - accuracy: 0.6799 - val_loss: 0.5868 - val_accuracy: 0.7181\n",
            "Epoch 3/100\n",
            "12/12 [==============================] - 0s 5ms/step - loss: 0.5773 - accuracy: 0.7362 - val_loss: 0.5456 - val_accuracy: 0.7394\n",
            "Epoch 4/100\n",
            "12/12 [==============================] - 0s 5ms/step - loss: 0.4989 - accuracy: 0.7552 - val_loss: 0.5099 - val_accuracy: 0.7926\n",
            "Epoch 5/100\n",
            "12/12 [==============================] - 0s 5ms/step - loss: 0.4825 - accuracy: 0.7877 - val_loss: 0.4800 - val_accuracy: 0.8138\n",
            "Epoch 6/100\n",
            "12/12 [==============================] - 0s 5ms/step - loss: 0.4574 - accuracy: 0.8545 - val_loss: 0.4540 - val_accuracy: 0.8298\n",
            "Epoch 7/100\n",
            "12/12 [==============================] - 0s 5ms/step - loss: 0.4048 - accuracy: 0.8424 - val_loss: 0.4314 - val_accuracy: 0.8457\n",
            "Epoch 8/100\n",
            "12/12 [==============================] - 0s 5ms/step - loss: 0.3561 - accuracy: 0.8818 - val_loss: 0.4112 - val_accuracy: 0.8564\n",
            "Epoch 9/100\n",
            "12/12 [==============================] - 0s 5ms/step - loss: 0.3488 - accuracy: 0.8942 - val_loss: 0.3936 - val_accuracy: 0.8670\n",
            "Epoch 10/100\n",
            "12/12 [==============================] - 0s 5ms/step - loss: 0.3504 - accuracy: 0.8781 - val_loss: 0.3773 - val_accuracy: 0.8670\n",
            "Epoch 11/100\n",
            "12/12 [==============================] - 0s 5ms/step - loss: 0.3208 - accuracy: 0.8978 - val_loss: 0.3631 - val_accuracy: 0.8830\n",
            "Epoch 12/100\n",
            "12/12 [==============================] - 0s 5ms/step - loss: 0.3024 - accuracy: 0.8747 - val_loss: 0.3501 - val_accuracy: 0.8830\n",
            "Epoch 13/100\n",
            "12/12 [==============================] - 0s 5ms/step - loss: 0.2879 - accuracy: 0.9084 - val_loss: 0.3379 - val_accuracy: 0.8830\n",
            "Epoch 14/100\n",
            "12/12 [==============================] - 0s 4ms/step - loss: 0.2787 - accuracy: 0.9202 - val_loss: 0.3268 - val_accuracy: 0.8936\n",
            "Epoch 15/100\n",
            "12/12 [==============================] - 0s 5ms/step - loss: 0.3193 - accuracy: 0.8968 - val_loss: 0.3165 - val_accuracy: 0.8989\n",
            "Epoch 16/100\n",
            "12/12 [==============================] - 0s 5ms/step - loss: 0.3057 - accuracy: 0.9247 - val_loss: 0.3071 - val_accuracy: 0.9043\n",
            "Epoch 17/100\n",
            "12/12 [==============================] - 0s 5ms/step - loss: 0.2596 - accuracy: 0.9336 - val_loss: 0.2984 - val_accuracy: 0.9149\n",
            "Epoch 18/100\n",
            "12/12 [==============================] - 0s 5ms/step - loss: 0.2547 - accuracy: 0.9229 - val_loss: 0.2901 - val_accuracy: 0.9149\n",
            "Epoch 19/100\n",
            "12/12 [==============================] - 0s 5ms/step - loss: 0.2303 - accuracy: 0.9532 - val_loss: 0.2825 - val_accuracy: 0.9149\n",
            "Epoch 20/100\n",
            "12/12 [==============================] - 0s 13ms/step - loss: 0.2379 - accuracy: 0.9430 - val_loss: 0.2751 - val_accuracy: 0.9149\n",
            "Epoch 21/100\n",
            "12/12 [==============================] - 0s 5ms/step - loss: 0.2427 - accuracy: 0.9351 - val_loss: 0.2682 - val_accuracy: 0.9149\n",
            "Epoch 22/100\n",
            "12/12 [==============================] - 0s 4ms/step - loss: 0.2649 - accuracy: 0.9329 - val_loss: 0.2619 - val_accuracy: 0.9149\n",
            "Epoch 23/100\n",
            "12/12 [==============================] - 0s 5ms/step - loss: 0.2057 - accuracy: 0.9546 - val_loss: 0.2562 - val_accuracy: 0.9202\n",
            "Epoch 24/100\n",
            "12/12 [==============================] - 0s 5ms/step - loss: 0.2156 - accuracy: 0.9511 - val_loss: 0.2504 - val_accuracy: 0.9255\n",
            "Epoch 25/100\n",
            "12/12 [==============================] - 0s 5ms/step - loss: 0.1755 - accuracy: 0.9646 - val_loss: 0.2453 - val_accuracy: 0.9255\n",
            "Epoch 26/100\n",
            "12/12 [==============================] - 0s 5ms/step - loss: 0.2224 - accuracy: 0.9385 - val_loss: 0.2398 - val_accuracy: 0.9255\n",
            "Epoch 27/100\n",
            "12/12 [==============================] - 0s 5ms/step - loss: 0.2102 - accuracy: 0.9517 - val_loss: 0.2349 - val_accuracy: 0.9255\n",
            "Epoch 28/100\n",
            "12/12 [==============================] - 0s 5ms/step - loss: 0.1882 - accuracy: 0.9505 - val_loss: 0.2305 - val_accuracy: 0.9255\n",
            "Epoch 29/100\n",
            "12/12 [==============================] - 0s 5ms/step - loss: 0.2196 - accuracy: 0.9510 - val_loss: 0.2258 - val_accuracy: 0.9255\n",
            "Epoch 30/100\n",
            "12/12 [==============================] - 0s 5ms/step - loss: 0.1841 - accuracy: 0.9658 - val_loss: 0.2217 - val_accuracy: 0.9255\n",
            "Epoch 31/100\n",
            "12/12 [==============================] - 0s 5ms/step - loss: 0.1639 - accuracy: 0.9673 - val_loss: 0.2179 - val_accuracy: 0.9255\n",
            "Epoch 32/100\n",
            "12/12 [==============================] - 0s 6ms/step - loss: 0.1817 - accuracy: 0.9519 - val_loss: 0.2140 - val_accuracy: 0.9255\n",
            "Epoch 33/100\n",
            "12/12 [==============================] - 0s 5ms/step - loss: 0.1670 - accuracy: 0.9634 - val_loss: 0.2104 - val_accuracy: 0.9255\n",
            "Epoch 34/100\n",
            "12/12 [==============================] - 0s 5ms/step - loss: 0.1557 - accuracy: 0.9608 - val_loss: 0.2069 - val_accuracy: 0.9255\n",
            "Epoch 35/100\n",
            "12/12 [==============================] - 0s 5ms/step - loss: 0.2037 - accuracy: 0.9596 - val_loss: 0.2033 - val_accuracy: 0.9255\n",
            "Epoch 36/100\n",
            "12/12 [==============================] - 0s 5ms/step - loss: 0.1740 - accuracy: 0.9595 - val_loss: 0.2002 - val_accuracy: 0.9255\n",
            "Epoch 37/100\n",
            "12/12 [==============================] - 0s 5ms/step - loss: 0.1644 - accuracy: 0.9581 - val_loss: 0.1973 - val_accuracy: 0.9255\n",
            "Epoch 38/100\n",
            "12/12 [==============================] - 0s 5ms/step - loss: 0.1583 - accuracy: 0.9687 - val_loss: 0.1944 - val_accuracy: 0.9255\n",
            "Epoch 39/100\n",
            "12/12 [==============================] - 0s 5ms/step - loss: 0.1318 - accuracy: 0.9723 - val_loss: 0.1918 - val_accuracy: 0.9255\n",
            "Epoch 40/100\n",
            "12/12 [==============================] - 0s 4ms/step - loss: 0.1433 - accuracy: 0.9700 - val_loss: 0.1889 - val_accuracy: 0.9255\n",
            "Epoch 41/100\n",
            "12/12 [==============================] - 0s 5ms/step - loss: 0.1357 - accuracy: 0.9764 - val_loss: 0.1862 - val_accuracy: 0.9309\n",
            "Epoch 42/100\n",
            "12/12 [==============================] - 0s 5ms/step - loss: 0.1228 - accuracy: 0.9776 - val_loss: 0.1836 - val_accuracy: 0.9309\n",
            "Epoch 43/100\n",
            "12/12 [==============================] - 0s 5ms/step - loss: 0.1550 - accuracy: 0.9660 - val_loss: 0.1809 - val_accuracy: 0.9362\n",
            "Epoch 44/100\n",
            "12/12 [==============================] - 0s 5ms/step - loss: 0.1473 - accuracy: 0.9677 - val_loss: 0.1786 - val_accuracy: 0.9362\n",
            "Epoch 45/100\n",
            "12/12 [==============================] - 0s 5ms/step - loss: 0.1506 - accuracy: 0.9563 - val_loss: 0.1765 - val_accuracy: 0.9362\n",
            "Epoch 46/100\n",
            "12/12 [==============================] - 0s 5ms/step - loss: 0.1329 - accuracy: 0.9763 - val_loss: 0.1743 - val_accuracy: 0.9415\n",
            "Epoch 47/100\n",
            "12/12 [==============================] - 0s 5ms/step - loss: 0.1543 - accuracy: 0.9709 - val_loss: 0.1720 - val_accuracy: 0.9468\n",
            "Epoch 48/100\n",
            "12/12 [==============================] - 0s 5ms/step - loss: 0.1673 - accuracy: 0.9528 - val_loss: 0.1699 - val_accuracy: 0.9468\n",
            "Epoch 49/100\n",
            "12/12 [==============================] - 0s 5ms/step - loss: 0.1266 - accuracy: 0.9681 - val_loss: 0.1684 - val_accuracy: 0.9468\n",
            "Epoch 50/100\n",
            "12/12 [==============================] - 0s 5ms/step - loss: 0.1375 - accuracy: 0.9642 - val_loss: 0.1663 - val_accuracy: 0.9468\n",
            "Epoch 51/100\n",
            "12/12 [==============================] - 0s 4ms/step - loss: 0.1129 - accuracy: 0.9837 - val_loss: 0.1646 - val_accuracy: 0.9521\n",
            "Epoch 52/100\n",
            "12/12 [==============================] - 0s 5ms/step - loss: 0.1422 - accuracy: 0.9683 - val_loss: 0.1627 - val_accuracy: 0.9521\n",
            "Epoch 53/100\n",
            "12/12 [==============================] - 0s 5ms/step - loss: 0.1282 - accuracy: 0.9794 - val_loss: 0.1607 - val_accuracy: 0.9521\n",
            "Epoch 54/100\n",
            "12/12 [==============================] - 0s 5ms/step - loss: 0.1328 - accuracy: 0.9740 - val_loss: 0.1590 - val_accuracy: 0.9521\n",
            "Epoch 55/100\n",
            "12/12 [==============================] - 0s 5ms/step - loss: 0.1223 - accuracy: 0.9839 - val_loss: 0.1576 - val_accuracy: 0.9521\n",
            "Epoch 56/100\n",
            "12/12 [==============================] - 0s 5ms/step - loss: 0.1386 - accuracy: 0.9856 - val_loss: 0.1558 - val_accuracy: 0.9521\n",
            "Epoch 57/100\n",
            "12/12 [==============================] - 0s 4ms/step - loss: 0.1160 - accuracy: 0.9831 - val_loss: 0.1543 - val_accuracy: 0.9521\n",
            "Epoch 58/100\n",
            "12/12 [==============================] - 0s 5ms/step - loss: 0.1271 - accuracy: 0.9820 - val_loss: 0.1528 - val_accuracy: 0.9521\n",
            "Epoch 59/100\n",
            "12/12 [==============================] - 0s 5ms/step - loss: 0.1093 - accuracy: 0.9903 - val_loss: 0.1514 - val_accuracy: 0.9521\n",
            "Epoch 60/100\n",
            "12/12 [==============================] - 0s 5ms/step - loss: 0.1165 - accuracy: 0.9863 - val_loss: 0.1503 - val_accuracy: 0.9521\n",
            "Epoch 61/100\n",
            "12/12 [==============================] - 0s 5ms/step - loss: 0.1136 - accuracy: 0.9811 - val_loss: 0.1490 - val_accuracy: 0.9521\n",
            "Epoch 62/100\n",
            "12/12 [==============================] - 0s 13ms/step - loss: 0.1030 - accuracy: 0.9861 - val_loss: 0.1476 - val_accuracy: 0.9574\n",
            "Epoch 63/100\n",
            "12/12 [==============================] - 0s 5ms/step - loss: 0.1244 - accuracy: 0.9862 - val_loss: 0.1461 - val_accuracy: 0.9574\n",
            "Epoch 64/100\n",
            "12/12 [==============================] - 0s 5ms/step - loss: 0.1033 - accuracy: 0.9850 - val_loss: 0.1449 - val_accuracy: 0.9574\n",
            "Epoch 65/100\n",
            "12/12 [==============================] - 0s 5ms/step - loss: 0.1025 - accuracy: 0.9932 - val_loss: 0.1438 - val_accuracy: 0.9574\n",
            "Epoch 66/100\n",
            "12/12 [==============================] - 0s 5ms/step - loss: 0.0983 - accuracy: 0.9896 - val_loss: 0.1429 - val_accuracy: 0.9574\n",
            "Epoch 67/100\n",
            "12/12 [==============================] - 0s 5ms/step - loss: 0.1004 - accuracy: 0.9903 - val_loss: 0.1417 - val_accuracy: 0.9574\n",
            "Epoch 68/100\n",
            "12/12 [==============================] - 0s 5ms/step - loss: 0.1016 - accuracy: 0.9843 - val_loss: 0.1405 - val_accuracy: 0.9574\n",
            "Epoch 69/100\n",
            "12/12 [==============================] - 0s 5ms/step - loss: 0.0974 - accuracy: 0.9912 - val_loss: 0.1395 - val_accuracy: 0.9574\n",
            "Epoch 70/100\n",
            "12/12 [==============================] - 0s 5ms/step - loss: 0.1031 - accuracy: 0.9876 - val_loss: 0.1382 - val_accuracy: 0.9574\n",
            "Epoch 71/100\n",
            "12/12 [==============================] - 0s 5ms/step - loss: 0.0956 - accuracy: 0.9856 - val_loss: 0.1370 - val_accuracy: 0.9574\n",
            "Epoch 72/100\n",
            "12/12 [==============================] - 0s 5ms/step - loss: 0.0897 - accuracy: 0.9916 - val_loss: 0.1361 - val_accuracy: 0.9574\n",
            "Epoch 73/100\n",
            "12/12 [==============================] - 0s 5ms/step - loss: 0.1122 - accuracy: 0.9739 - val_loss: 0.1351 - val_accuracy: 0.9574\n",
            "Epoch 74/100\n",
            "12/12 [==============================] - 0s 5ms/step - loss: 0.0900 - accuracy: 0.9885 - val_loss: 0.1344 - val_accuracy: 0.9574\n",
            "Epoch 75/100\n",
            "12/12 [==============================] - 0s 5ms/step - loss: 0.1152 - accuracy: 0.9766 - val_loss: 0.1332 - val_accuracy: 0.9574\n",
            "Epoch 76/100\n",
            "12/12 [==============================] - 0s 4ms/step - loss: 0.0973 - accuracy: 0.9890 - val_loss: 0.1323 - val_accuracy: 0.9574\n",
            "Epoch 77/100\n",
            "12/12 [==============================] - 0s 5ms/step - loss: 0.0955 - accuracy: 0.9907 - val_loss: 0.1314 - val_accuracy: 0.9574\n",
            "Epoch 78/100\n",
            "12/12 [==============================] - 0s 4ms/step - loss: 0.1014 - accuracy: 0.9856 - val_loss: 0.1306 - val_accuracy: 0.9574\n",
            "Epoch 79/100\n",
            "12/12 [==============================] - 0s 5ms/step - loss: 0.0958 - accuracy: 0.9911 - val_loss: 0.1297 - val_accuracy: 0.9574\n",
            "Epoch 80/100\n",
            "12/12 [==============================] - 0s 5ms/step - loss: 0.1006 - accuracy: 0.9816 - val_loss: 0.1289 - val_accuracy: 0.9574\n",
            "Epoch 81/100\n",
            "12/12 [==============================] - 0s 5ms/step - loss: 0.0818 - accuracy: 0.9942 - val_loss: 0.1283 - val_accuracy: 0.9574\n",
            "Epoch 82/100\n",
            "12/12 [==============================] - 0s 5ms/step - loss: 0.1065 - accuracy: 0.9893 - val_loss: 0.1274 - val_accuracy: 0.9574\n",
            "Epoch 83/100\n",
            "12/12 [==============================] - 0s 5ms/step - loss: 0.0990 - accuracy: 0.9844 - val_loss: 0.1266 - val_accuracy: 0.9574\n",
            "Epoch 84/100\n",
            "12/12 [==============================] - 0s 5ms/step - loss: 0.0999 - accuracy: 0.9826 - val_loss: 0.1259 - val_accuracy: 0.9574\n",
            "Epoch 85/100\n",
            "12/12 [==============================] - 0s 5ms/step - loss: 0.0953 - accuracy: 0.9838 - val_loss: 0.1253 - val_accuracy: 0.9574\n",
            "Epoch 86/100\n",
            "12/12 [==============================] - 0s 5ms/step - loss: 0.0930 - accuracy: 0.9788 - val_loss: 0.1246 - val_accuracy: 0.9574\n",
            "Epoch 87/100\n",
            "12/12 [==============================] - 0s 4ms/step - loss: 0.0892 - accuracy: 0.9939 - val_loss: 0.1240 - val_accuracy: 0.9574\n",
            "Epoch 88/100\n",
            "12/12 [==============================] - 0s 5ms/step - loss: 0.0739 - accuracy: 0.9952 - val_loss: 0.1233 - val_accuracy: 0.9574\n",
            "Epoch 89/100\n",
            "12/12 [==============================] - 0s 4ms/step - loss: 0.0969 - accuracy: 0.9790 - val_loss: 0.1225 - val_accuracy: 0.9574\n",
            "Epoch 90/100\n",
            "12/12 [==============================] - 0s 5ms/step - loss: 0.1042 - accuracy: 0.9860 - val_loss: 0.1221 - val_accuracy: 0.9574\n",
            "Epoch 91/100\n",
            "12/12 [==============================] - 0s 5ms/step - loss: 0.0926 - accuracy: 0.9805 - val_loss: 0.1216 - val_accuracy: 0.9574\n",
            "Epoch 92/100\n",
            "12/12 [==============================] - 0s 5ms/step - loss: 0.0866 - accuracy: 0.9838 - val_loss: 0.1209 - val_accuracy: 0.9574\n",
            "Epoch 93/100\n",
            "12/12 [==============================] - 0s 5ms/step - loss: 0.0906 - accuracy: 0.9834 - val_loss: 0.1203 - val_accuracy: 0.9574\n",
            "Epoch 94/100\n",
            "12/12 [==============================] - 0s 5ms/step - loss: 0.0941 - accuracy: 0.9895 - val_loss: 0.1197 - val_accuracy: 0.9574\n",
            "Epoch 95/100\n",
            "12/12 [==============================] - 0s 5ms/step - loss: 0.0907 - accuracy: 0.9789 - val_loss: 0.1192 - val_accuracy: 0.9574\n",
            "Epoch 96/100\n",
            "12/12 [==============================] - 0s 5ms/step - loss: 0.0966 - accuracy: 0.9825 - val_loss: 0.1187 - val_accuracy: 0.9574\n",
            "Epoch 97/100\n",
            "12/12 [==============================] - 0s 5ms/step - loss: 0.0842 - accuracy: 0.9848 - val_loss: 0.1182 - val_accuracy: 0.9574\n",
            "Epoch 98/100\n",
            "12/12 [==============================] - 0s 6ms/step - loss: 0.0914 - accuracy: 0.9846 - val_loss: 0.1175 - val_accuracy: 0.9574\n",
            "Epoch 99/100\n",
            "12/12 [==============================] - 0s 5ms/step - loss: 0.0790 - accuracy: 0.9893 - val_loss: 0.1172 - val_accuracy: 0.9574\n",
            "Epoch 100/100\n",
            "12/12 [==============================] - 0s 5ms/step - loss: 0.0832 - accuracy: 0.9884 - val_loss: 0.1166 - val_accuracy: 0.9574\n",
            "12/12 [==============================] - 0s 2ms/step - loss: 0.0819 - accuracy: 0.9869\n",
            "train score: [0.08189820498228073, 0.9868766665458679]\n",
            "6/6 [==============================] - 0s 2ms/step - loss: 0.1166 - accuracy: 0.9574\n",
            "test score: [0.11656562983989716, 0.957446813583374]\n"
          ],
          "name": "stdout"
        }
      ]
    },
    {
      "cell_type": "code",
      "metadata": {
        "colab": {
          "base_uri": "https://localhost:8080/",
          "height": 265
        },
        "id": "O-zZlLTKtGIS",
        "outputId": "f98a7c9a-7115-4ef0-acdd-743eb04f48ea"
      },
      "source": [
        "import matplotlib.pyplot as plt\r\n",
        "\r\n",
        "plt.plot(r.history[\"loss\"], label=\"loss\")\r\n",
        "plt.plot(r.history[\"val_loss\"], label=\"val_loss\")\r\n",
        "plt.legend()\r\n",
        "plt.show()"
      ],
      "execution_count": 14,
      "outputs": [
        {
          "output_type": "display_data",
          "data": {
            "image/png": "[encoded data removed]",
            "text/plain": [
              "<Figure size 432x288 with 1 Axes>"
            ]
          },
          "metadata": {
            "tags": [],
            "needs_background": "light"
          }
        }
      ]
    },
    {
      "cell_type": "code",
      "metadata": {
        "colab": {
          "base_uri": "https://localhost:8080/",
          "height": 267
        },
        "id": "M2uMLcCEwAni",
        "outputId": "6f731a51-b971-4c16-92c8-ac2dcecfbc3b"
      },
      "source": [
        "plt.plot(r.history[\"accuracy\"], label=\"acc\")\r\n",
        "plt.plot(r.history[\"val_accuracy\"], label=\"val_accuracy\")\r\n",
        "plt.legend()\r\n",
        "plt.show()"
      ],
      "execution_count": 15,
      "outputs": [
        {
          "output_type": "display_data",
          "data": {
            "image/png": "[encoded data removed]",
            "text/plain": [
              "<Figure size 432x288 with 1 Axes>"
            ]
          },
          "metadata": {
            "tags": [],
            "needs_background": "light"
          }
        }
      ]
    },
    {
      "cell_type": "code",
      "metadata": {
        "id": "8Cxu50ImwnpF",
        "colab": {
          "base_uri": "https://localhost:8080/"
        },
        "outputId": "d53fcaf6-406d-43c6-c0e0-8e237ac4ef27"
      },
      "source": [
        "P = model.predict(X_test)\r\n",
        "print(P)"
      ],
      "execution_count": 16,
      "outputs": [
        {
          "output_type": "stream",
          "text": [
            "[[9.80845213e-01]\n",
            " [8.80220458e-02]\n",
            " [9.97949779e-01]\n",
            " [9.57869887e-01]\n",
            " [6.36735320e-01]\n",
            " [8.36783290e-01]\n",
            " [4.64232236e-01]\n",
            " [1.79067925e-02]\n",
            " [9.99922395e-01]\n",
            " [9.03343141e-01]\n",
            " [1.55718729e-01]\n",
            " [9.87434924e-01]\n",
            " [9.95137036e-01]\n",
            " [3.83351278e-03]\n",
            " [9.98694718e-01]\n",
            " [8.07634182e-03]\n",
            " [6.48957794e-04]\n",
            " [9.86494660e-01]\n",
            " [9.98379946e-01]\n",
            " [9.23370719e-01]\n",
            " [9.41791952e-01]\n",
            " [8.37085009e-01]\n",
            " [5.85134607e-04]\n",
            " [9.87642884e-01]\n",
            " [7.36982286e-01]\n",
            " [9.99192178e-01]\n",
            " [1.01009209e-03]\n",
            " [8.23910356e-01]\n",
            " [9.99223113e-01]\n",
            " [9.86086249e-01]\n",
            " [9.72888350e-01]\n",
            " [9.95355129e-01]\n",
            " [9.96107996e-01]\n",
            " [9.15746093e-01]\n",
            " [9.52030599e-01]\n",
            " [6.38063401e-02]\n",
            " [4.06516541e-04]\n",
            " [9.91718054e-01]\n",
            " [4.88353334e-02]\n",
            " [5.94630319e-06]\n",
            " [8.84850204e-01]\n",
            " [2.63480842e-02]\n",
            " [2.40173231e-05]\n",
            " [9.81283844e-01]\n",
            " [9.83329594e-01]\n",
            " [9.98345256e-01]\n",
            " [6.74466267e-02]\n",
            " [9.99973059e-01]\n",
            " [9.97178197e-01]\n",
            " [7.53038785e-06]\n",
            " [2.50221826e-02]\n",
            " [9.89548206e-01]\n",
            " [9.64293957e-01]\n",
            " [6.27887845e-01]\n",
            " [9.73878682e-01]\n",
            " [9.92217779e-01]\n",
            " [1.41130425e-02]\n",
            " [8.36484671e-01]\n",
            " [6.30475342e-01]\n",
            " [1.06078403e-06]\n",
            " [9.84624267e-01]\n",
            " [1.80085152e-01]\n",
            " [9.97126877e-01]\n",
            " [1.22505501e-02]\n",
            " [9.58645999e-01]\n",
            " [9.99598086e-01]\n",
            " [9.99463141e-01]\n",
            " [5.29935956e-01]\n",
            " [9.97597158e-01]\n",
            " [9.99902606e-01]\n",
            " [8.78599405e-01]\n",
            " [4.76141840e-01]\n",
            " [9.73556995e-01]\n",
            " [9.96042967e-01]\n",
            " [9.88294482e-01]\n",
            " [1.22069579e-03]\n",
            " [9.65232313e-01]\n",
            " [9.17269766e-01]\n",
            " [8.71587515e-01]\n",
            " [9.58660126e-01]\n",
            " [7.61196434e-01]\n",
            " [7.75496960e-01]\n",
            " [9.96967971e-01]\n",
            " [7.66192377e-01]\n",
            " [9.98798490e-01]\n",
            " [8.10859352e-03]\n",
            " [2.96885206e-04]\n",
            " [1.08664714e-01]\n",
            " [1.66044520e-05]\n",
            " [9.83135760e-01]\n",
            " [9.87432241e-01]\n",
            " [7.14564975e-03]\n",
            " [8.09396744e-01]\n",
            " [9.53615010e-01]\n",
            " [1.30681045e-04]\n",
            " [8.21812332e-01]\n",
            " [2.72412021e-02]\n",
            " [8.63545239e-01]\n",
            " [9.97497022e-01]\n",
            " [9.84445155e-01]\n",
            " [9.96438265e-01]\n",
            " [9.02927876e-01]\n",
            " [9.81769860e-01]\n",
            " [9.98787820e-01]\n",
            " [9.93004501e-01]\n",
            " [8.89957607e-01]\n",
            " [5.27180471e-02]\n",
            " [9.28314388e-01]\n",
            " [9.91841078e-01]\n",
            " [9.99547064e-01]\n",
            " [9.11206186e-01]\n",
            " [2.37299595e-02]\n",
            " [1.66601334e-02]\n",
            " [1.90556783e-03]\n",
            " [9.95027363e-01]\n",
            " [9.46077824e-01]\n",
            " [5.87623916e-04]\n",
            " [2.54586659e-04]\n",
            " [9.99304056e-01]\n",
            " [8.84035349e-01]\n",
            " [9.86832380e-01]\n",
            " [9.87138033e-01]\n",
            " [9.98284280e-01]\n",
            " [1.37694046e-01]\n",
            " [9.99402642e-01]\n",
            " [1.27907109e-03]\n",
            " [2.49503326e-04]\n",
            " [4.56160121e-02]\n",
            " [9.35951948e-01]\n",
            " [9.96758282e-01]\n",
            " [9.81876314e-01]\n",
            " [9.96844649e-01]\n",
            " [9.11671162e-01]\n",
            " [5.70515394e-02]\n",
            " [9.73735988e-01]\n",
            " [9.99455512e-01]\n",
            " [5.59940040e-01]\n",
            " [9.22308385e-01]\n",
            " [9.98627663e-01]\n",
            " [1.23877592e-01]\n",
            " [8.71107936e-01]\n",
            " [9.80270982e-01]\n",
            " [9.95779969e-03]\n",
            " [9.67278779e-01]\n",
            " [9.89918411e-01]\n",
            " [9.99888062e-01]\n",
            " [9.96197224e-01]\n",
            " [1.61733758e-02]\n",
            " [9.57666278e-01]\n",
            " [9.73646939e-01]\n",
            " [4.29167776e-05]\n",
            " [1.32989604e-02]\n",
            " [3.73529732e-01]\n",
            " [9.98026669e-01]\n",
            " [5.92799366e-01]\n",
            " [8.68664265e-01]\n",
            " [9.87876296e-01]\n",
            " [1.27102984e-02]\n",
            " [9.93470788e-01]\n",
            " [1.28476910e-04]\n",
            " [8.10353935e-01]\n",
            " [9.99253333e-01]\n",
            " [9.98897552e-01]\n",
            " [9.90063727e-01]\n",
            " [9.99130189e-01]\n",
            " [9.61622953e-01]\n",
            " [8.98909271e-01]\n",
            " [1.09455980e-01]\n",
            " [8.79269958e-01]\n",
            " [9.93331611e-01]\n",
            " [8.35038483e-01]\n",
            " [5.64887285e-01]\n",
            " [9.99397755e-01]\n",
            " [9.70915973e-01]\n",
            " [8.68286669e-01]\n",
            " [9.74415183e-01]\n",
            " [9.95718539e-01]\n",
            " [1.85634519e-04]\n",
            " [1.89017966e-01]\n",
            " [3.40625120e-05]\n",
            " [9.93606567e-01]\n",
            " [9.82642055e-01]\n",
            " [9.23592865e-01]\n",
            " [8.54126751e-01]\n",
            " [1.50589226e-02]\n",
            " [3.66297854e-08]\n",
            " [9.98522222e-01]\n",
            " [9.41456258e-01]]\n"
          ],
          "name": "stdout"
        }
      ]
    },
    {
      "cell_type": "code",
      "metadata": {
        "colab": {
          "base_uri": "https://localhost:8080/"
        },
        "id": "f2SzHDwi7I-2",
        "outputId": "57e66768-e257-4311-c8f2-6442268dafba"
      },
      "source": [
        "import numpy as np\r\n",
        "P = np.round(P).flatten()\r\n",
        "print(P)"
      ],
      "execution_count": 21,
      "outputs": [
        {
          "output_type": "stream",
          "text": [
            "[1. 0. 1. 1. 1. 1. 0. 0. 1. 1. 0. 1. 1. 0. 1. 0. 0. 1. 1. 1. 1. 1. 0. 1.\n",
            " 1. 1. 0. 1. 1. 1. 1. 1. 1. 1. 1. 0. 0. 1. 0. 0. 1. 0. 0. 1. 1. 1. 0. 1.\n",
            " 1. 0. 0. 1. 1. 1. 1. 1. 0. 1. 1. 0. 1. 0. 1. 0. 1. 1. 1. 1. 1. 1. 1. 0.\n",
            " 1. 1. 1. 0. 1. 1. 1. 1. 1. 1. 1. 1. 1. 0. 0. 0. 0. 1. 1. 0. 1. 1. 0. 1.\n",
            " 0. 1. 1. 1. 1. 1. 1. 1. 1. 1. 0. 1. 1. 1. 1. 0. 0. 0. 1. 1. 0. 0. 1. 1.\n",
            " 1. 1. 1. 0. 1. 0. 0. 0. 1. 1. 1. 1. 1. 0. 1. 1. 1. 1. 1. 0. 1. 1. 0. 1.\n",
            " 1. 1. 1. 0. 1. 1. 0. 0. 0. 1. 1. 1. 1. 0. 1. 0. 1. 1. 1. 1. 1. 1. 1. 0.\n",
            " 1. 1. 1. 1. 1. 1. 1. 1. 1. 0. 0. 0. 1. 1. 1. 1. 0. 0. 1. 1.]\n"
          ],
          "name": "stdout"
        }
      ]
    },
    {
      "cell_type": "code",
      "metadata": {
        "colab": {
          "base_uri": "https://localhost:8080/"
        },
        "id": "Cg2_trdP7Nn1",
        "outputId": "700abee4-a668-426d-995a-ba52df8b9931"
      },
      "source": [
        "print(\"Manually calculated accuracy: \", np.mean(P == y_test))\r\n",
        "print(\"Evaluate output: \", model.evaluate(x=X_test, y=y_test))"
      ],
      "execution_count": 26,
      "outputs": [
        {
          "output_type": "stream",
          "text": [
            "Manually calculated accuracy:  0.9574468085106383\n",
            "6/6 [==============================] - 0s 2ms/step - loss: 0.1166 - accuracy: 0.9574\n",
            "Evaluate output:  [0.11656562983989716, 0.957446813583374]\n"
          ],
          "name": "stdout"
        }
      ]
    },
    {
      "cell_type": "code",
      "metadata": {
        "id": "jjHMDXDG7kgY"
      },
      "source": [
        ""
      ],
      "execution_count": null,
      "outputs": []
    }
  ]
}